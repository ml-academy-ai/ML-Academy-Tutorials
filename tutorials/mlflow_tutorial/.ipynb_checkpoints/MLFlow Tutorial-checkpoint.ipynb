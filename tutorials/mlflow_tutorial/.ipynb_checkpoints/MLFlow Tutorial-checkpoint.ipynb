{
 "cells": [
  {
   "cell_type": "code",
   "execution_count": 1,
   "id": "a512b9ec-3873-4da8-a16a-605ea755808b",
   "metadata": {},
   "outputs": [],
   "source": [
    "import numpy as np\n",
    "import pandas as pd\n",
    "import mlflow\n",
    "import optuna\n",
    "from optuna import study\n",
    "import mlflow.sklearn\n",
    "from catboost import CatBoostRegressor\n",
    "from mlflow.tracking import MlflowClient\n",
    "from sklearn.linear_model import Lasso\n",
    "from sklearn.metrics import mean_squared_error\n",
    "from sklearn.model_selection import train_test_split\n",
    "from typing import Dict, Any, Union"
   ]
  },
  {
   "cell_type": "markdown",
   "id": "efdd6522-0245-4583-accf-1b27c58ea77f",
   "metadata": {},
   "source": [
    "# Starting ML Tracking Server"
   ]
  },
  {
   "cell_type": "markdown",
   "id": "2a064223-10c7-475e-aecd-9bae90b237ea",
   "metadata": {},
   "source": [
    "In the terminal, navigate to the notebook folder and the start the ml server\n",
    "\n",
    "Run in the terminal (command line): mlflow server --host 127.0.0.1 --port 8080\n",
    "\n",
    "**This is what it does:**\n",
    "\n",
    "1. Starts the MLflow Tracking Server\n",
    "A dedicated process that manages and serves your MLflow experiments.\n",
    "\n",
    "2. Provides a Web UI\n",
    "Accessible at http://127.0.0.1:8080 (or localhost:8080), where you can browse experiments, runs, parameters, metrics, and artifacts.\n",
    "\n",
    "3. Exposes a Tracking API Endpoint\n",
    "Other scripts or notebooks can log directly to this server if you set - **mlflow.set_tracking_uri(\"http://127.0.0.1:8080\")**\n",
    "\n",
    "4. MLflow automatically creates a folder mlruns/ in your working directory the first time you log something.\n",
    "Inside mlruns/, it creates subfolders for:\n",
    "\n",
    "- each experiment (default is 0)\n",
    "\n",
    "- each run within that experiment"
   ]
  },
  {
   "cell_type": "markdown",
   "id": "b50c8aa0-0b1a-471e-9d0b-39a09ce395fc",
   "metadata": {},
   "source": [
    "# Setting URI"
   ]
  },
  {
   "cell_type": "code",
   "execution_count": 2,
   "id": "b7384755-4370-4e02-8c07-e2170704aecb",
   "metadata": {},
   "outputs": [],
   "source": [
    "# Set the tracking uri\n",
    "mlflow.set_tracking_uri(uri=\"http://127.0.0.1:8080\")"
   ]
  },
  {
   "cell_type": "markdown",
   "id": "2bed6c30",
   "metadata": {},
   "source": [
    "What it does:\n",
    "\n",
    "1. It tells your MLflow client (your script/notebook) where to send all logging data (experiments, runs, params, metrics, artifacts).\n",
    "\n",
    "3. Since our host is local, it will still write to mlruns, but here you could configure a remote host URI."
   ]
  },
  {
   "cell_type": "code",
   "execution_count": 3,
   "id": "29bf7ea4-2c2d-4ec1-9ee5-82152447c270",
   "metadata": {},
   "outputs": [
    {
     "name": "stdout",
     "output_type": "stream",
     "text": [
      "Current Tracking URI: http://127.0.0.1:8080\n"
     ]
    }
   ],
   "source": [
    "print(\"Current Tracking URI:\", mlflow.get_tracking_uri())"
   ]
  },
  {
   "cell_type": "markdown",
   "id": "586f53a5-ec53-429c-9444-3b6e7ed51b4e",
   "metadata": {},
   "source": [
    "# Fitting the model"
   ]
  },
  {
   "cell_type": "markdown",
   "id": "dc342a7a-840f-424c-ac09-86b0f1b2817c",
   "metadata": {},
   "source": [
    "Prepare the data and fit the model"
   ]
  },
  {
   "cell_type": "code",
   "execution_count": 4,
   "id": "d581e782-0705-4037-b949-87123cc75ecf",
   "metadata": {},
   "outputs": [
    {
     "name": "stdout",
     "output_type": "stream",
     "text": [
      "RMSE val = 0.6356127117266147, RMSE test = 0.638554128638353\n"
     ]
    }
   ],
   "source": [
    "# Load datasets\n",
    "df = pd.read_csv('WineQT.csv', sep=',')\n",
    "\n",
    "# Split the data into training, validation, and test sets\n",
    "train, test = train_test_split(df, test_size=0.25, random_state=42)\n",
    "x_train = train.drop([\"quality\"], axis=1).values\n",
    "y_train = train[[\"quality\"]].values.ravel()\n",
    "x_test= test.drop([\"quality\"], axis=1).values\n",
    "y_test = test[[\"quality\"]].values.ravel()\n",
    "\n",
    "# Split the data into training and validation sets\n",
    "x_train, x_val, y_train, y_val = train_test_split(\n",
    "    x_train, y_train, test_size=0.2, random_state=42\n",
    ")\n",
    "\n",
    "# Setting hyperparameter\n",
    "alpha = 0.1\n",
    "model = Lasso(alpha=alpha)\n",
    "model.fit(x_train, y_train)\n",
    "\n",
    "# Predicting\n",
    "y_pred_val = model.predict(x_val)\n",
    "y_pred_test = model.predict(x_test)\n",
    "\n",
    "# Calculating metrics\n",
    "rmse_val = np.sqrt(mean_squared_error(y_val, y_pred_val))\n",
    "rmse_test = np.sqrt(mean_squared_error(y_test, y_pred_test))\n",
    "print(f'RMSE val = {rmse_val}, RMSE test = {rmse_test}')"
   ]
  },
  {
   "cell_type": "markdown",
   "id": "e928ce83",
   "metadata": {},
   "source": [
    "# Running first experiment"
   ]
  },
  {
   "cell_type": "markdown",
   "id": "2fae1084",
   "metadata": {},
   "source": [
    "Create an MLFLow Experiment. It will create a folder with artifact_location= ... name in the mlruns folder"
   ]
  },
  {
   "cell_type": "code",
   "execution_count": 5,
   "id": "bb376f49-e4ce-4309-8acd-eb45553dd430",
   "metadata": {},
   "outputs": [
    {
     "data": {
      "text/plain": [
       "<Experiment: artifact_location='mlflow-artifacts:/626129081351815138', creation_time=1756222817145, experiment_id='626129081351815138', last_update_time=1756222817145, lifecycle_stage='active', name='Wine Quality Regression', tags={}>"
      ]
     },
     "execution_count": 5,
     "metadata": {},
     "output_type": "execute_result"
    }
   ],
   "source": [
    "# Set the experiment name - it also creates an experiment if it doesn't exist\n",
    "mlflow.set_experiment(\"Wine Quality Regression\")"
   ]
  },
  {
   "cell_type": "code",
   "execution_count": 6,
   "id": "389d7191-26c1-4858-8259-4a397ef38899",
   "metadata": {},
   "outputs": [
    {
     "name": "stdout",
     "output_type": "stream",
     "text": [
      "🏃 View run lasso_baseline at: http://127.0.0.1:8080/#/experiments/626129081351815138/runs/555a5516f59f467587bfc6dab50300eb\n",
      "🧪 View experiment at: http://127.0.0.1:8080/#/experiments/626129081351815138\n"
     ]
    }
   ],
   "source": [
    "# Setting hyperparameters\n",
    "params = {\n",
    "    'alpha': model.alpha\n",
    "}\n",
    "\n",
    "# Start an MLflow run\n",
    "with mlflow.start_run(run_name='lasso_baseline'):\n",
    "    # Log the hyperparameters\n",
    "    mlflow.log_params(params)\n",
    "    # Log the loss metric\n",
    "    mlflow.log_metric(\"rmse_val\", rmse_val)\n",
    "    mlflow.log_metric(\"rmse_test\", rmse_test)\n",
    "    # Example artifact\n",
    "    # with open(\"metrics.txt\", \"w\") as f:\n",
    "    #     f.write(f\"RMSE val: {rmse_val}\\nRMSE test: {rmse_test}\")\n",
    "    # mlflow.log_artifact(\"metrics.txt\")\n",
    "\n",
    "    # Set a tag that we can use to remind ourselves what this run was for\n",
    "    mlflow.set_tag(\"model_version\", \"baseline\")\n",
    "\n",
    "    # Log the model\n",
    "    model_info = mlflow.sklearn.log_model(\n",
    "        sk_model=model,\n",
    "        name=\"wine_model_lasso\",\n",
    "        input_example=x_train,\n",
    "        # registered_model_name=\"lasso_baseline_1\",\n",
    "    )"
   ]
  },
  {
   "cell_type": "code",
   "execution_count": null,
   "id": "115b985e-4b4b-4ffb-9430-fae2f0a05035",
   "metadata": {},
   "outputs": [],
   "source": []
  },
  {
   "cell_type": "code",
   "execution_count": 7,
   "id": "6e41a4e1-d7ce-4256-95f8-bdab64985c38",
   "metadata": {},
   "outputs": [
    {
     "data": {
      "application/vnd.jupyter.widget-view+json": {
       "model_id": "ca1c80bc2c064955b321187667f050fb",
       "version_major": 2,
       "version_minor": 0
      },
      "text/plain": [
       "Downloading artifacts:   0%|          | 0/1 [00:00<?, ?it/s]"
      ]
     },
     "metadata": {},
     "output_type": "display_data"
    },
    {
     "name": "stderr",
     "output_type": "stream",
     "text": [
      "Exception ignored in: <bound method IPythonKernel._clean_thread_parent_frames of <ipykernel.ipkernel.IPythonKernel object at 0x121b4c0d0>>\n",
      "Traceback (most recent call last):\n",
      "  File \"/Users/timurbikmuhametov/miniconda3/envs/mlacademy-tutorials/lib/python3.11/site-packages/ipykernel/ipkernel.py\", line 781, in _clean_thread_parent_frames\n",
      "    def _clean_thread_parent_frames(\n",
      "\n",
      "KeyboardInterrupt: \n",
      "\n",
      "KeyboardInterrupt\n",
      "\n"
     ]
    }
   ],
   "source": [
    "from mlflow.tracking import MlflowClient\n",
    "\n",
    "client = MlflowClient()\n",
    "run_id = \"555a5516f59f467587bfc6dab50300eb\"\n",
    "\n",
    "# Download file to local dir\n",
    "local_path = client.download_artifacts(run_id, \"model.pkl\", \"/tmp\")\n",
    "print(\"Downloaded to:\", local_path)\n",
    "\n",
    "# Read file\n",
    "with open(local_path, \"r\") as f:\n",
    "    content = f.read()\n",
    "print(\"File content:\\n\", content)\n"
   ]
  },
  {
   "cell_type": "code",
   "execution_count": null,
   "id": "951afbf0-9664-4f54-afc5-5c4236303573",
   "metadata": {},
   "outputs": [],
   "source": []
  },
  {
   "cell_type": "code",
   "execution_count": null,
   "id": "dc17f9db-fd06-4726-8268-135b1526d8fa",
   "metadata": {},
   "outputs": [],
   "source": []
  },
  {
   "cell_type": "code",
   "execution_count": null,
   "id": "343b3ddb-ce42-421f-9d3e-ab3b21ee9d75",
   "metadata": {},
   "outputs": [],
   "source": []
  },
  {
   "cell_type": "markdown",
   "id": "3cca3d99",
   "metadata": {},
   "source": [
    "# Running MLflow experiments with different models"
   ]
  },
  {
   "cell_type": "code",
   "execution_count": 7,
   "id": "cf275328",
   "metadata": {},
   "outputs": [],
   "source": [
    "def train_model(df: pd.DataFrame, params: dict, model='Lasso'):\n",
    "    \"\"\"\n",
    "    Train a model and return the metrics\n",
    "    \"\"\"\n",
    "    # Split the data into training, validation, and test sets\n",
    "    train, test = train_test_split(df, test_size=0.25, random_state=42)\n",
    "    x_train = train.drop([\"quality\"], axis=1).values\n",
    "    y_train = train[[\"quality\"]].values.ravel()\n",
    "    x_test= test.drop([\"quality\"], axis=1).values\n",
    "    y_test = test[[\"quality\"]].values.ravel()\n",
    "\n",
    "    # Split the data into training and validation sets\n",
    "    x_train, x_val, y_train, y_val = train_test_split(\n",
    "        x_train, y_train, test_size=0.2, random_state=42\n",
    "    )\n",
    "\n",
    "    if model == 'Lasso':\n",
    "        model = Lasso(**params)\n",
    "    elif model == 'CatBoost':\n",
    "        model = CatBoostRegressor(**params)\n",
    "    else:\n",
    "        raise ValueError(f\"Model {model} not supported\")\n",
    "\n",
    "    # Fitting the model\n",
    "    model.fit(x_train, y_train)\n",
    "    # Predicting\n",
    "    y_pred_val = model.predict(x_val)\n",
    "    y_pred_test = model.predict(x_test)\n",
    "\n",
    "    # Calculating metrics\n",
    "    rmse_val = np.sqrt(mean_squared_error(y_val, y_pred_val))\n",
    "    rmse_test = np.sqrt(mean_squared_error(y_test, y_pred_test))\n",
    "    print(f'RMSE val = {rmse_val}, RMSE test = {rmse_test}')\n",
    "    return model,rmse_val, rmse_test"
   ]
  },
  {
   "cell_type": "code",
   "execution_count": 8,
   "id": "a0f3ff19",
   "metadata": {},
   "outputs": [],
   "source": [
    "def log_run(\n",
    "        run_name: str,\n",
    "        params: dict,\n",
    "        metrics: dict,\n",
    "        tags: dict,\n",
    "        trained_model,\n",
    "        model_type='Lasso',\n",
    "        input_example=None,\n",
    "        registered_model_name=None):\n",
    "    \"\"\"\n",
    "    Log a run to MLflow\n",
    "    \"\"\"\n",
    "    mlflow.log_params(params)\n",
    "    mlflow.log_metrics(metrics)\n",
    "    mlflow.set_tag(\"model_version\", run_name)\n",
    "    mlflow.set_tags(tags)\n",
    "\n",
    "    if model_type == 'Lasso':\n",
    "        # Log sklearn model\n",
    "        model_info = mlflow.sklearn.log_model(\n",
    "            sk_model=trained_model,\n",
    "            name=\"wine_model_lasso\",\n",
    "            input_example=input_example,\n",
    "            registered_model_name=registered_model_name,\n",
    "        )\n",
    "    elif model_type == 'CatBoost':\n",
    "        # Log CatBoost model\n",
    "        model_info = mlflow.catboost.log_model(\n",
    "            cb_model=trained_model,\n",
    "            name=\"wine_model_catboost\",\n",
    "            input_example=input_example,\n",
    "            registered_model_name=registered_model_name,\n",
    "        )\n",
    "    else:\n",
    "        raise ValueError(f\"Model type {model_type} not supported\")\n",
    "    \n",
    "    return model_info"
   ]
  },
  {
   "cell_type": "markdown",
   "id": "f652f8f6",
   "metadata": {},
   "source": [
    "### Running LASSO"
   ]
  },
  {
   "cell_type": "code",
   "execution_count": 9,
   "id": "782b5edc",
   "metadata": {},
   "outputs": [
    {
     "name": "stdout",
     "output_type": "stream",
     "text": [
      "RMSE val = 0.6356127117266147, RMSE test = 0.638554128638353\n"
     ]
    },
    {
     "name": "stderr",
     "output_type": "stream",
     "text": [
      "\u001b[31m2025/08/26 11:24:43 WARNING mlflow.models.model: Model logged without a signature and input example. Please set `input_example` parameter when logging the model to auto infer the model signature.\u001b[0m\n"
     ]
    },
    {
     "name": "stdout",
     "output_type": "stream",
     "text": [
      "Model logged with URI: models:/m-bc43830338814c42ad09ede1ee788e9f\n",
      "RMSE validation: 0.6356\n",
      "RMSE test: 0.6386\n",
      "🏃 View run lasso_baseline at: http://127.0.0.1:8080/#/experiments/830731795768476244/runs/e0154877457c42c7a8bd96e9ca1cc74e\n",
      "🧪 View experiment at: http://127.0.0.1:8080/#/experiments/830731795768476244\n"
     ]
    }
   ],
   "source": [
    "# Setting hyperparameters\n",
    "\n",
    "lasso_params = {\n",
    "    'alpha': 0.1,\n",
    "    'max_iter': 1000,\n",
    "    'random_state': 42\n",
    "}\n",
    "\n",
    "# Train the model\n",
    "trained_model, rmse_val, rmse_test = train_model(df, lasso_params, model='Lasso')\n",
    "\n",
    "# Start an MLflow run\n",
    "with mlflow.start_run(run_name='lasso_baseline'):\n",
    "    # Prepare metrics and tags\n",
    "    metrics = {\n",
    "        'rmse_val': rmse_val,\n",
    "        'rmse_test': rmse_test\n",
    "    }\n",
    "    \n",
    "    # Let's add some tags to the run\n",
    "    tags = {\n",
    "        'model_version': 'baseline',\n",
    "        'experiment_type': 'regression',\n",
    "    }\n",
    "    \n",
    "    # Log everything using our function\n",
    "    model_info = log_run(\n",
    "        run_name=\"lasso_baseline\",\n",
    "        params=lasso_params,\n",
    "        metrics=metrics,\n",
    "        tags=tags,\n",
    "        trained_model=trained_model,\n",
    "        model_type='Lasso',\n",
    "    )\n",
    "    \n",
    "    print(f\"Model logged with URI: {model_info.model_uri}\")\n",
    "    print(f\"RMSE validation: {rmse_val:.4f}\")\n",
    "    print(f\"RMSE test: {rmse_test:.4f}\")"
   ]
  },
  {
   "cell_type": "code",
   "execution_count": 73,
   "id": "57be525d",
   "metadata": {},
   "outputs": [
    {
     "name": "stdout",
     "output_type": "stream",
     "text": [
      "RMSE val = 0.5558687336128091, RMSE test = 0.5729224664412881\n"
     ]
    },
    {
     "name": "stderr",
     "output_type": "stream",
     "text": [
      "\u001b[31m2025/08/26 15:41:57 WARNING mlflow.models.model: Model logged without a signature and input example. Please set `input_example` parameter when logging the model to auto infer the model signature.\u001b[0m\n"
     ]
    },
    {
     "name": "stdout",
     "output_type": "stream",
     "text": [
      "Model logged with URI: models:/m-0ae710e58547414abd78215b716e77a9\n",
      "RMSE validation: 0.5559\n",
      "RMSE test: 0.5729\n",
      "🏃 View run catboost_baseline at: http://127.0.0.1:8080/#/experiments/830731795768476244/runs/36604e3cdf394aff802eaa9f5d3a3060\n",
      "🧪 View experiment at: http://127.0.0.1:8080/#/experiments/830731795768476244\n"
     ]
    }
   ],
   "source": [
    "# Setting hyperparameters for CatBoost\n",
    "catboost_params = {\n",
    "    'iterations': 100,\n",
    "    'learning_rate': 0.1,\n",
    "    'depth': 6,\n",
    "    'random_seed': 42,\n",
    "    'verbose': False\n",
    "}\n",
    "\n",
    "# Train the model\n",
    "trained_model, rmse_val, rmse_test = train_model(df, catboost_params, model='CatBoost')\n",
    "\n",
    "# Start an MLflow run\n",
    "with mlflow.start_run(run_name='catboost_baseline'):\n",
    "    # Prepare metrics and tags\n",
    "    metrics = {\n",
    "        'rmse_val': rmse_val,\n",
    "        'rmse_test': rmse_test\n",
    "    }\n",
    "    \n",
    "    tags = {\n",
    "        'model_version': 'baseline',\n",
    "        'experiment_type': 'regression',\n",
    "        'data_version': 'v1',\n",
    "        'algorithm': 'gradient_boosting'\n",
    "    }\n",
    "    \n",
    "    # Log everything using our function\n",
    "    model_info = log_run(\n",
    "        run_name=\"catboost_baseline\",\n",
    "        params=catboost_params,\n",
    "        metrics=metrics,\n",
    "        tags=tags,\n",
    "        trained_model=trained_model,\n",
    "        model_type='CatBoost',\n",
    "    )\n",
    "    \n",
    "    print(f\"Model logged with URI: {model_info.model_uri}\")\n",
    "    print(f\"RMSE validation: {rmse_val:.4f}\")\n",
    "    print(f\"RMSE test: {rmse_test:.4f}\")"
   ]
  },
  {
   "cell_type": "markdown",
   "id": "c316e4dd",
   "metadata": {},
   "source": [
    "# Searching for the best model"
   ]
  },
  {
   "cell_type": "markdown",
   "id": "9dfceaad-c623-4333-af52-4e97aa84ecbb",
   "metadata": {},
   "source": [
    "### Searching by runs"
   ]
  },
  {
   "cell_type": "code",
   "execution_count": 25,
   "id": "3e1d8b68-6cd3-4df1-a218-825e4d9e67d2",
   "metadata": {},
   "outputs": [
    {
     "name": "stdout",
     "output_type": "stream",
     "text": [
      "Experiment 'Wine Quality Regression' has ID: 830731795768476244\n"
     ]
    }
   ],
   "source": [
    "# Get experiment by name\n",
    "experiment_name = \"Wine Quality Regression\"\n",
    "experiment = mlflow.get_experiment_by_name(experiment_name)\n",
    "\n",
    "if experiment:\n",
    "    experiment_id = experiment.experiment_id\n",
    "    print(f\"Experiment '{experiment_name}' has ID: {experiment_id}\")\n",
    "else:\n",
    "    print(f\"Experiment '{experiment_name}' not found\")"
   ]
  },
  {
   "cell_type": "code",
   "execution_count": 32,
   "id": "12a069c3-bdc4-445e-a03b-c5d0cddc76e7",
   "metadata": {},
   "outputs": [
    {
     "data": {
      "text/plain": [
       "run_id                                      3f71187083cd412ba69b04108f2bb432\n",
       "experiment_id                                             830731795768476244\n",
       "status                                                              FINISHED\n",
       "artifact_uri               mlflow-artifacts:/830731795768476244/3f7118708...\n",
       "start_time                                  2025-08-26 07:11:46.033000+00:00\n",
       "end_time                                    2025-08-26 07:11:47.165000+00:00\n",
       "metrics.rmse_val                                                    0.550561\n",
       "metrics.rmse_test                                                   0.576752\n",
       "params.verbose                                                         False\n",
       "params.l2_leaf_reg                                         4.063417976603828\n",
       "params.depth                                                               8\n",
       "params.iterations                                                        100\n",
       "params.random_seed                                                        42\n",
       "params.learning_rate                                     0.16461139272031802\n",
       "params.alpha                                                            None\n",
       "params.max_iter                                                         None\n",
       "params.random_state                                                     None\n",
       "tags.mlflow.source.type                                                LOCAL\n",
       "tags.trial                                                                43\n",
       "tags.mlflow.source.name    /Users/timurbikmuhametov/miniconda3/envs/mlaca...\n",
       "tags.mlflow.runName                             Catboost_optuna_iteration_43\n",
       "tags.mlflow.user                                           timurbikmuhametov\n",
       "tags.model_version                                           catboost_optuna\n",
       "tags.mlflow.parentRunId                     c16549f5ad634cb8bd12b3e6a0fa70b1\n",
       "tags.algorithm                                                          None\n",
       "tags.experiment_type                                                    None\n",
       "tags.data_version                                                       None\n",
       "Name: 0, dtype: object"
      ]
     },
     "execution_count": 32,
     "metadata": {},
     "output_type": "execute_result"
    }
   ],
   "source": [
    "top_models = mlflow.search_runs(\n",
    "    experiment_ids=[str(experiment_id)],\n",
    "    filter_string=\"metrics.rmse_test < 0.9\",\n",
    "    order_by=[\"metrics.rmse_val ASC\"],   # use string, not dict\n",
    ")\n",
    "# Get the best run (lowest validation RMSE)\n",
    "best_model = top_models.iloc[0]\n",
    "best_model"
   ]
  },
  {
   "cell_type": "code",
   "execution_count": 33,
   "id": "14e4dae0-7e8d-4f14-a32e-0588b4f81106",
   "metadata": {},
   "outputs": [
    {
     "data": {
      "application/vnd.jupyter.widget-view+json": {
       "model_id": "aad3800d0705482cbaa9039ee86f98c0",
       "version_major": 2,
       "version_minor": 0
      },
      "text/plain": [
       "Downloading artifacts:   0%|          | 0/1 [00:00<?, ?it/s]"
      ]
     },
     "metadata": {},
     "output_type": "display_data"
    },
    {
     "ename": "KeyboardInterrupt",
     "evalue": "",
     "output_type": "error",
     "traceback": [
      "\u001b[0;31m---------------------------------------------------------------------------\u001b[0m",
      "\u001b[0;31mKeyboardInterrupt\u001b[0m                         Traceback (most recent call last)",
      "Cell \u001b[0;32mIn[33], line 2\u001b[0m\n\u001b[1;32m      1\u001b[0m run_id \u001b[38;5;241m=\u001b[39m best_model\u001b[38;5;241m.\u001b[39mto_dict()[\u001b[38;5;124m'\u001b[39m\u001b[38;5;124mrun_id\u001b[39m\u001b[38;5;124m'\u001b[39m]\n\u001b[0;32m----> 2\u001b[0m loaded \u001b[38;5;241m=\u001b[39m \u001b[43mmlflow\u001b[49m\u001b[38;5;241;43m.\u001b[39;49m\u001b[43mpyfunc\u001b[49m\u001b[38;5;241;43m.\u001b[39;49m\u001b[43mload_model\u001b[49m\u001b[43m(\u001b[49m\u001b[38;5;124;43mf\u001b[39;49m\u001b[38;5;124;43m\"\u001b[39;49m\u001b[38;5;124;43mruns:/\u001b[39;49m\u001b[38;5;132;43;01m{\u001b[39;49;00m\u001b[43mrun_id\u001b[49m\u001b[38;5;132;43;01m}\u001b[39;49;00m\u001b[38;5;124;43m/model_catboost\u001b[39;49m\u001b[38;5;124;43m\"\u001b[39;49m\u001b[43m)\u001b[49m\n",
      "File \u001b[0;32m~/miniconda3/envs/mlacademy-tutorials/lib/python3.11/site-packages/mlflow/tracing/provider.py:465\u001b[0m, in \u001b[0;36mtrace_disabled.<locals>.wrapper\u001b[0;34m(*args, **kwargs)\u001b[0m\n\u001b[1;32m    463\u001b[0m \u001b[38;5;28;01mtry\u001b[39;00m:\n\u001b[1;32m    464\u001b[0m     is_func_called \u001b[38;5;241m=\u001b[39m \u001b[38;5;28;01mTrue\u001b[39;00m\n\u001b[0;32m--> 465\u001b[0m     result \u001b[38;5;241m=\u001b[39m \u001b[43mf\u001b[49m\u001b[43m(\u001b[49m\u001b[38;5;241;43m*\u001b[39;49m\u001b[43margs\u001b[49m\u001b[43m,\u001b[49m\u001b[43m \u001b[49m\u001b[38;5;241;43m*\u001b[39;49m\u001b[38;5;241;43m*\u001b[39;49m\u001b[43mkwargs\u001b[49m\u001b[43m)\u001b[49m\n\u001b[1;32m    466\u001b[0m \u001b[38;5;28;01mfinally\u001b[39;00m:\n\u001b[1;32m    467\u001b[0m     enable()\n",
      "File \u001b[0;32m~/miniconda3/envs/mlacademy-tutorials/lib/python3.11/site-packages/mlflow/pyfunc/__init__.py:1131\u001b[0m, in \u001b[0;36mload_model\u001b[0;34m(model_uri, suppress_warnings, dst_path, model_config)\u001b[0m\n\u001b[1;32m   1127\u001b[0m         entity_list\u001b[38;5;241m.\u001b[39mappend(Entity(job\u001b[38;5;241m=\u001b[39mjob_entity))\n\u001b[1;32m   1129\u001b[0m     lineage_header_info \u001b[38;5;241m=\u001b[39m LineageHeaderInfo(entities\u001b[38;5;241m=\u001b[39mentity_list) \u001b[38;5;28;01mif\u001b[39;00m entity_list \u001b[38;5;28;01melse\u001b[39;00m \u001b[38;5;28;01mNone\u001b[39;00m\n\u001b[0;32m-> 1131\u001b[0m local_path \u001b[38;5;241m=\u001b[39m \u001b[43m_download_artifact_from_uri\u001b[49m\u001b[43m(\u001b[49m\n\u001b[1;32m   1132\u001b[0m \u001b[43m    \u001b[49m\u001b[43martifact_uri\u001b[49m\u001b[38;5;241;43m=\u001b[39;49m\u001b[43mmodel_uri\u001b[49m\u001b[43m,\u001b[49m\u001b[43m \u001b[49m\u001b[43moutput_path\u001b[49m\u001b[38;5;241;43m=\u001b[39;49m\u001b[43mdst_path\u001b[49m\u001b[43m,\u001b[49m\u001b[43m \u001b[49m\u001b[43mlineage_header_info\u001b[49m\u001b[38;5;241;43m=\u001b[39;49m\u001b[43mlineage_header_info\u001b[49m\n\u001b[1;32m   1133\u001b[0m \u001b[43m\u001b[49m\u001b[43m)\u001b[49m\n\u001b[1;32m   1135\u001b[0m \u001b[38;5;28;01mif\u001b[39;00m \u001b[38;5;129;01mnot\u001b[39;00m suppress_warnings:\n\u001b[1;32m   1136\u001b[0m     model_requirements \u001b[38;5;241m=\u001b[39m _get_pip_requirements_from_model_path(local_path)\n",
      "File \u001b[0;32m~/miniconda3/envs/mlacademy-tutorials/lib/python3.11/site-packages/mlflow/tracking/artifact_utils.py:124\u001b[0m, in \u001b[0;36m_download_artifact_from_uri\u001b[0;34m(artifact_uri, output_path, lineage_header_info, tracking_uri)\u001b[0m\n\u001b[1;32m    118\u001b[0m     \u001b[38;5;28;01mif\u001b[39;00m \u001b[38;5;28misinstance\u001b[39m(repo, ModelsArtifactRepository):\n\u001b[1;32m    119\u001b[0m         \u001b[38;5;28;01mreturn\u001b[39;00m repo\u001b[38;5;241m.\u001b[39mdownload_artifacts(\n\u001b[1;32m    120\u001b[0m             artifact_path\u001b[38;5;241m=\u001b[39martifact_path,\n\u001b[1;32m    121\u001b[0m             dst_path\u001b[38;5;241m=\u001b[39moutput_path,\n\u001b[1;32m    122\u001b[0m             lineage_header_info\u001b[38;5;241m=\u001b[39mlineage_header_info,\n\u001b[1;32m    123\u001b[0m         )\n\u001b[0;32m--> 124\u001b[0m     \u001b[38;5;28;01mreturn\u001b[39;00m \u001b[43mrepo\u001b[49m\u001b[38;5;241;43m.\u001b[39;49m\u001b[43mdownload_artifacts\u001b[49m\u001b[43m(\u001b[49m\u001b[43martifact_path\u001b[49m\u001b[38;5;241;43m=\u001b[39;49m\u001b[43martifact_path\u001b[49m\u001b[43m,\u001b[49m\u001b[43m \u001b[49m\u001b[43mdst_path\u001b[49m\u001b[38;5;241;43m=\u001b[39;49m\u001b[43moutput_path\u001b[49m\u001b[43m)\u001b[49m\n\u001b[1;32m    125\u001b[0m \u001b[38;5;28;01mexcept\u001b[39;00m \u001b[38;5;167;01mException\u001b[39;00m \u001b[38;5;28;01mas\u001b[39;00m e:\n\u001b[1;32m    126\u001b[0m     \u001b[38;5;28;01mif\u001b[39;00m artifact_uri\u001b[38;5;241m.\u001b[39mstartswith(\u001b[38;5;124m\"\u001b[39m\u001b[38;5;124mm-\u001b[39m\u001b[38;5;124m\"\u001b[39m):\n\u001b[1;32m    127\u001b[0m         \u001b[38;5;66;03m# When a Model ID like string is passed, suggest using 'models:/{artifact_uri}' instead.\u001b[39;00m\n",
      "File \u001b[0;32m~/miniconda3/envs/mlacademy-tutorials/lib/python3.11/site-packages/mlflow/store/artifact/runs_artifact_repo.py:209\u001b[0m, in \u001b[0;36mRunsArtifactRepository.download_artifacts\u001b[0;34m(self, artifact_path, dst_path)\u001b[0m\n\u001b[1;32m    206\u001b[0m run_out_path: Optional[\u001b[38;5;28mstr\u001b[39m] \u001b[38;5;241m=\u001b[39m \u001b[38;5;28;01mNone\u001b[39;00m\n\u001b[1;32m    207\u001b[0m \u001b[38;5;28;01mtry\u001b[39;00m:\n\u001b[1;32m    208\u001b[0m     \u001b[38;5;66;03m# This fails when the run has no artifacts, so we catch the exception\u001b[39;00m\n\u001b[0;32m--> 209\u001b[0m     run_out_path \u001b[38;5;241m=\u001b[39m \u001b[38;5;28;43mself\u001b[39;49m\u001b[38;5;241;43m.\u001b[39;49m\u001b[43mrepo\u001b[49m\u001b[38;5;241;43m.\u001b[39;49m\u001b[43mdownload_artifacts\u001b[49m\u001b[43m(\u001b[49m\u001b[43martifact_path\u001b[49m\u001b[43m,\u001b[49m\u001b[43m \u001b[49m\u001b[43mdst_path\u001b[49m\u001b[43m)\u001b[49m\n\u001b[1;32m    210\u001b[0m \u001b[38;5;28;01mexcept\u001b[39;00m \u001b[38;5;167;01mException\u001b[39;00m:\n\u001b[1;32m    211\u001b[0m     _logger\u001b[38;5;241m.\u001b[39mdebug(\n\u001b[1;32m    212\u001b[0m         \u001b[38;5;124mf\u001b[39m\u001b[38;5;124m\"\u001b[39m\u001b[38;5;124mFailed to download artifacts from \u001b[39m\u001b[38;5;132;01m{\u001b[39;00m\u001b[38;5;28mself\u001b[39m\u001b[38;5;241m.\u001b[39martifact_uri\u001b[38;5;132;01m}\u001b[39;00m\u001b[38;5;124m/\u001b[39m\u001b[38;5;132;01m{\u001b[39;00martifact_path\u001b[38;5;132;01m}\u001b[39;00m\u001b[38;5;124m.\u001b[39m\u001b[38;5;124m\"\u001b[39m,\n\u001b[1;32m    213\u001b[0m         exc_info\u001b[38;5;241m=\u001b[39m\u001b[38;5;28;01mTrue\u001b[39;00m,\n\u001b[1;32m    214\u001b[0m     )\n",
      "File \u001b[0;32m~/miniconda3/envs/mlacademy-tutorials/lib/python3.11/site-packages/mlflow/store/artifact/artifact_repo.py:304\u001b[0m, in \u001b[0;36mArtifactRepository.download_artifacts\u001b[0;34m(self, artifact_path, dst_path)\u001b[0m\n\u001b[1;32m    302\u001b[0m tracebacks \u001b[38;5;241m=\u001b[39m {}\n\u001b[1;32m    303\u001b[0m \u001b[38;5;28;01mwith\u001b[39;00m ArtifactProgressBar\u001b[38;5;241m.\u001b[39mfiles(desc\u001b[38;5;241m=\u001b[39m\u001b[38;5;124m\"\u001b[39m\u001b[38;5;124mDownloading artifacts\u001b[39m\u001b[38;5;124m\"\u001b[39m, total\u001b[38;5;241m=\u001b[39m\u001b[38;5;28mlen\u001b[39m(futures)) \u001b[38;5;28;01mas\u001b[39;00m pbar:\n\u001b[0;32m--> 304\u001b[0m \u001b[43m    \u001b[49m\u001b[38;5;28;43;01mfor\u001b[39;49;00m\u001b[43m \u001b[49m\u001b[43mf\u001b[49m\u001b[43m \u001b[49m\u001b[38;5;129;43;01min\u001b[39;49;00m\u001b[43m \u001b[49m\u001b[43mas_completed\u001b[49m\u001b[43m(\u001b[49m\u001b[43mfutures\u001b[49m\u001b[43m)\u001b[49m\u001b[43m:\u001b[49m\n\u001b[1;32m    305\u001b[0m \u001b[43m        \u001b[49m\u001b[38;5;28;43;01mtry\u001b[39;49;00m\u001b[43m:\u001b[49m\n\u001b[1;32m    306\u001b[0m \u001b[43m            \u001b[49m\u001b[43mf\u001b[49m\u001b[38;5;241;43m.\u001b[39;49m\u001b[43mresult\u001b[49m\u001b[43m(\u001b[49m\u001b[43m)\u001b[49m\n",
      "File \u001b[0;32m~/miniconda3/envs/mlacademy-tutorials/lib/python3.11/concurrent/futures/_base.py:243\u001b[0m, in \u001b[0;36mas_completed\u001b[0;34m(fs, timeout)\u001b[0m\n\u001b[1;32m    238\u001b[0m     \u001b[38;5;28;01mif\u001b[39;00m wait_timeout \u001b[38;5;241m<\u001b[39m \u001b[38;5;241m0\u001b[39m:\n\u001b[1;32m    239\u001b[0m         \u001b[38;5;28;01mraise\u001b[39;00m \u001b[38;5;167;01mTimeoutError\u001b[39;00m(\n\u001b[1;32m    240\u001b[0m                 \u001b[38;5;124m'\u001b[39m\u001b[38;5;132;01m%d\u001b[39;00m\u001b[38;5;124m (of \u001b[39m\u001b[38;5;132;01m%d\u001b[39;00m\u001b[38;5;124m) futures unfinished\u001b[39m\u001b[38;5;124m'\u001b[39m \u001b[38;5;241m%\u001b[39m (\n\u001b[1;32m    241\u001b[0m                 \u001b[38;5;28mlen\u001b[39m(pending), total_futures))\n\u001b[0;32m--> 243\u001b[0m \u001b[43mwaiter\u001b[49m\u001b[38;5;241;43m.\u001b[39;49m\u001b[43mevent\u001b[49m\u001b[38;5;241;43m.\u001b[39;49m\u001b[43mwait\u001b[49m\u001b[43m(\u001b[49m\u001b[43mwait_timeout\u001b[49m\u001b[43m)\u001b[49m\n\u001b[1;32m    245\u001b[0m \u001b[38;5;28;01mwith\u001b[39;00m waiter\u001b[38;5;241m.\u001b[39mlock:\n\u001b[1;32m    246\u001b[0m     finished \u001b[38;5;241m=\u001b[39m waiter\u001b[38;5;241m.\u001b[39mfinished_futures\n",
      "File \u001b[0;32m~/miniconda3/envs/mlacademy-tutorials/lib/python3.11/threading.py:629\u001b[0m, in \u001b[0;36mEvent.wait\u001b[0;34m(self, timeout)\u001b[0m\n\u001b[1;32m    627\u001b[0m signaled \u001b[38;5;241m=\u001b[39m \u001b[38;5;28mself\u001b[39m\u001b[38;5;241m.\u001b[39m_flag\n\u001b[1;32m    628\u001b[0m \u001b[38;5;28;01mif\u001b[39;00m \u001b[38;5;129;01mnot\u001b[39;00m signaled:\n\u001b[0;32m--> 629\u001b[0m     signaled \u001b[38;5;241m=\u001b[39m \u001b[38;5;28;43mself\u001b[39;49m\u001b[38;5;241;43m.\u001b[39;49m\u001b[43m_cond\u001b[49m\u001b[38;5;241;43m.\u001b[39;49m\u001b[43mwait\u001b[49m\u001b[43m(\u001b[49m\u001b[43mtimeout\u001b[49m\u001b[43m)\u001b[49m\n\u001b[1;32m    630\u001b[0m \u001b[38;5;28;01mreturn\u001b[39;00m signaled\n",
      "File \u001b[0;32m~/miniconda3/envs/mlacademy-tutorials/lib/python3.11/threading.py:327\u001b[0m, in \u001b[0;36mCondition.wait\u001b[0;34m(self, timeout)\u001b[0m\n\u001b[1;32m    325\u001b[0m \u001b[38;5;28;01mtry\u001b[39;00m:    \u001b[38;5;66;03m# restore state no matter what (e.g., KeyboardInterrupt)\u001b[39;00m\n\u001b[1;32m    326\u001b[0m     \u001b[38;5;28;01mif\u001b[39;00m timeout \u001b[38;5;129;01mis\u001b[39;00m \u001b[38;5;28;01mNone\u001b[39;00m:\n\u001b[0;32m--> 327\u001b[0m         \u001b[43mwaiter\u001b[49m\u001b[38;5;241;43m.\u001b[39;49m\u001b[43macquire\u001b[49m\u001b[43m(\u001b[49m\u001b[43m)\u001b[49m\n\u001b[1;32m    328\u001b[0m         gotit \u001b[38;5;241m=\u001b[39m \u001b[38;5;28;01mTrue\u001b[39;00m\n\u001b[1;32m    329\u001b[0m     \u001b[38;5;28;01melse\u001b[39;00m:\n",
      "\u001b[0;31mKeyboardInterrupt\u001b[0m: "
     ]
    }
   ],
   "source": [
    "run_id = best_model.to_dict()['run_id']\n",
    "loaded = mlflow.pyfunc.load_model(f\"runs:/{run_id}/model_catboost\")"
   ]
  },
  {
   "cell_type": "code",
   "execution_count": 53,
   "id": "22e4b6b6-376d-4341-af90-5e43c24ce01d",
   "metadata": {},
   "outputs": [
    {
     "data": {
      "application/vnd.jupyter.widget-view+json": {
       "model_id": "b673d0e045764fc5a6b5ad7af058fb04",
       "version_major": 2,
       "version_minor": 0
      },
      "text/plain": [
       "Downloading artifacts:   0%|          | 0/1 [00:00<?, ?it/s]"
      ]
     },
     "metadata": {},
     "output_type": "display_data"
    },
    {
     "ename": "KeyboardInterrupt",
     "evalue": "",
     "output_type": "error",
     "traceback": [
      "\u001b[0;31m---------------------------------------------------------------------------\u001b[0m",
      "\u001b[0;31mKeyboardInterrupt\u001b[0m                         Traceback (most recent call last)",
      "Cell \u001b[0;32mIn[53], line 3\u001b[0m\n\u001b[1;32m      1\u001b[0m \u001b[38;5;66;03m# Load the latest best model (adjust artifact path if needed)\u001b[39;00m\n\u001b[1;32m      2\u001b[0m model_uri \u001b[38;5;241m=\u001b[39m \u001b[38;5;124mf\u001b[39m\u001b[38;5;124m\"\u001b[39m\u001b[38;5;124mruns:/\u001b[39m\u001b[38;5;132;01m{\u001b[39;00mrun_id\u001b[38;5;132;01m}\u001b[39;00m\u001b[38;5;124m/best_model_lasso\u001b[39m\u001b[38;5;124m\"\u001b[39m  \u001b[38;5;66;03m# or ridge_model, etc.\u001b[39;00m\n\u001b[0;32m----> 3\u001b[0m latest_best_model \u001b[38;5;241m=\u001b[39m \u001b[43mmlflow\u001b[49m\u001b[38;5;241;43m.\u001b[39;49m\u001b[43msklearn\u001b[49m\u001b[38;5;241;43m.\u001b[39;49m\u001b[43mload_model\u001b[49m\u001b[43m(\u001b[49m\u001b[43mmodel_uri\u001b[49m\u001b[43m)\u001b[49m\n",
      "File \u001b[0;32m~/miniconda3/envs/mlacademy-tutorials/lib/python3.11/site-packages/mlflow/sklearn/__init__.py:652\u001b[0m, in \u001b[0;36mload_model\u001b[0;34m(model_uri, dst_path)\u001b[0m\n\u001b[1;32m    617\u001b[0m \u001b[38;5;28;01mdef\u001b[39;00m\u001b[38;5;250m \u001b[39m\u001b[38;5;21mload_model\u001b[39m(model_uri, dst_path\u001b[38;5;241m=\u001b[39m\u001b[38;5;28;01mNone\u001b[39;00m):\n\u001b[1;32m    618\u001b[0m \u001b[38;5;250m    \u001b[39m\u001b[38;5;124;03m\"\"\"\u001b[39;00m\n\u001b[1;32m    619\u001b[0m \u001b[38;5;124;03m    Load a scikit-learn model from a local file or a run.\u001b[39;00m\n\u001b[1;32m    620\u001b[0m \n\u001b[0;32m   (...)\u001b[0m\n\u001b[1;32m    650\u001b[0m \u001b[38;5;124;03m        predictions = sk_model.predict(pandas_df)\u001b[39;00m\n\u001b[1;32m    651\u001b[0m \u001b[38;5;124;03m    \"\"\"\u001b[39;00m\n\u001b[0;32m--> 652\u001b[0m     local_model_path \u001b[38;5;241m=\u001b[39m \u001b[43m_download_artifact_from_uri\u001b[49m\u001b[43m(\u001b[49m\u001b[43martifact_uri\u001b[49m\u001b[38;5;241;43m=\u001b[39;49m\u001b[43mmodel_uri\u001b[49m\u001b[43m,\u001b[49m\u001b[43m \u001b[49m\u001b[43moutput_path\u001b[49m\u001b[38;5;241;43m=\u001b[39;49m\u001b[43mdst_path\u001b[49m\u001b[43m)\u001b[49m\n\u001b[1;32m    653\u001b[0m     flavor_conf \u001b[38;5;241m=\u001b[39m _get_flavor_configuration(model_path\u001b[38;5;241m=\u001b[39mlocal_model_path, flavor_name\u001b[38;5;241m=\u001b[39mFLAVOR_NAME)\n\u001b[1;32m    654\u001b[0m     _add_code_from_conf_to_system_path(local_model_path, flavor_conf)\n",
      "File \u001b[0;32m~/miniconda3/envs/mlacademy-tutorials/lib/python3.11/site-packages/mlflow/tracking/artifact_utils.py:124\u001b[0m, in \u001b[0;36m_download_artifact_from_uri\u001b[0;34m(artifact_uri, output_path, lineage_header_info, tracking_uri)\u001b[0m\n\u001b[1;32m    118\u001b[0m     \u001b[38;5;28;01mif\u001b[39;00m \u001b[38;5;28misinstance\u001b[39m(repo, ModelsArtifactRepository):\n\u001b[1;32m    119\u001b[0m         \u001b[38;5;28;01mreturn\u001b[39;00m repo\u001b[38;5;241m.\u001b[39mdownload_artifacts(\n\u001b[1;32m    120\u001b[0m             artifact_path\u001b[38;5;241m=\u001b[39martifact_path,\n\u001b[1;32m    121\u001b[0m             dst_path\u001b[38;5;241m=\u001b[39moutput_path,\n\u001b[1;32m    122\u001b[0m             lineage_header_info\u001b[38;5;241m=\u001b[39mlineage_header_info,\n\u001b[1;32m    123\u001b[0m         )\n\u001b[0;32m--> 124\u001b[0m     \u001b[38;5;28;01mreturn\u001b[39;00m \u001b[43mrepo\u001b[49m\u001b[38;5;241;43m.\u001b[39;49m\u001b[43mdownload_artifacts\u001b[49m\u001b[43m(\u001b[49m\u001b[43martifact_path\u001b[49m\u001b[38;5;241;43m=\u001b[39;49m\u001b[43martifact_path\u001b[49m\u001b[43m,\u001b[49m\u001b[43m \u001b[49m\u001b[43mdst_path\u001b[49m\u001b[38;5;241;43m=\u001b[39;49m\u001b[43moutput_path\u001b[49m\u001b[43m)\u001b[49m\n\u001b[1;32m    125\u001b[0m \u001b[38;5;28;01mexcept\u001b[39;00m \u001b[38;5;167;01mException\u001b[39;00m \u001b[38;5;28;01mas\u001b[39;00m e:\n\u001b[1;32m    126\u001b[0m     \u001b[38;5;28;01mif\u001b[39;00m artifact_uri\u001b[38;5;241m.\u001b[39mstartswith(\u001b[38;5;124m\"\u001b[39m\u001b[38;5;124mm-\u001b[39m\u001b[38;5;124m\"\u001b[39m):\n\u001b[1;32m    127\u001b[0m         \u001b[38;5;66;03m# When a Model ID like string is passed, suggest using 'models:/{artifact_uri}' instead.\u001b[39;00m\n",
      "File \u001b[0;32m~/miniconda3/envs/mlacademy-tutorials/lib/python3.11/site-packages/mlflow/store/artifact/runs_artifact_repo.py:209\u001b[0m, in \u001b[0;36mRunsArtifactRepository.download_artifacts\u001b[0;34m(self, artifact_path, dst_path)\u001b[0m\n\u001b[1;32m    206\u001b[0m run_out_path: Optional[\u001b[38;5;28mstr\u001b[39m] \u001b[38;5;241m=\u001b[39m \u001b[38;5;28;01mNone\u001b[39;00m\n\u001b[1;32m    207\u001b[0m \u001b[38;5;28;01mtry\u001b[39;00m:\n\u001b[1;32m    208\u001b[0m     \u001b[38;5;66;03m# This fails when the run has no artifacts, so we catch the exception\u001b[39;00m\n\u001b[0;32m--> 209\u001b[0m     run_out_path \u001b[38;5;241m=\u001b[39m \u001b[38;5;28;43mself\u001b[39;49m\u001b[38;5;241;43m.\u001b[39;49m\u001b[43mrepo\u001b[49m\u001b[38;5;241;43m.\u001b[39;49m\u001b[43mdownload_artifacts\u001b[49m\u001b[43m(\u001b[49m\u001b[43martifact_path\u001b[49m\u001b[43m,\u001b[49m\u001b[43m \u001b[49m\u001b[43mdst_path\u001b[49m\u001b[43m)\u001b[49m\n\u001b[1;32m    210\u001b[0m \u001b[38;5;28;01mexcept\u001b[39;00m \u001b[38;5;167;01mException\u001b[39;00m:\n\u001b[1;32m    211\u001b[0m     _logger\u001b[38;5;241m.\u001b[39mdebug(\n\u001b[1;32m    212\u001b[0m         \u001b[38;5;124mf\u001b[39m\u001b[38;5;124m\"\u001b[39m\u001b[38;5;124mFailed to download artifacts from \u001b[39m\u001b[38;5;132;01m{\u001b[39;00m\u001b[38;5;28mself\u001b[39m\u001b[38;5;241m.\u001b[39martifact_uri\u001b[38;5;132;01m}\u001b[39;00m\u001b[38;5;124m/\u001b[39m\u001b[38;5;132;01m{\u001b[39;00martifact_path\u001b[38;5;132;01m}\u001b[39;00m\u001b[38;5;124m.\u001b[39m\u001b[38;5;124m\"\u001b[39m,\n\u001b[1;32m    213\u001b[0m         exc_info\u001b[38;5;241m=\u001b[39m\u001b[38;5;28;01mTrue\u001b[39;00m,\n\u001b[1;32m    214\u001b[0m     )\n",
      "File \u001b[0;32m~/miniconda3/envs/mlacademy-tutorials/lib/python3.11/site-packages/mlflow/store/artifact/artifact_repo.py:304\u001b[0m, in \u001b[0;36mArtifactRepository.download_artifacts\u001b[0;34m(self, artifact_path, dst_path)\u001b[0m\n\u001b[1;32m    302\u001b[0m tracebacks \u001b[38;5;241m=\u001b[39m {}\n\u001b[1;32m    303\u001b[0m \u001b[38;5;28;01mwith\u001b[39;00m ArtifactProgressBar\u001b[38;5;241m.\u001b[39mfiles(desc\u001b[38;5;241m=\u001b[39m\u001b[38;5;124m\"\u001b[39m\u001b[38;5;124mDownloading artifacts\u001b[39m\u001b[38;5;124m\"\u001b[39m, total\u001b[38;5;241m=\u001b[39m\u001b[38;5;28mlen\u001b[39m(futures)) \u001b[38;5;28;01mas\u001b[39;00m pbar:\n\u001b[0;32m--> 304\u001b[0m \u001b[43m    \u001b[49m\u001b[38;5;28;43;01mfor\u001b[39;49;00m\u001b[43m \u001b[49m\u001b[43mf\u001b[49m\u001b[43m \u001b[49m\u001b[38;5;129;43;01min\u001b[39;49;00m\u001b[43m \u001b[49m\u001b[43mas_completed\u001b[49m\u001b[43m(\u001b[49m\u001b[43mfutures\u001b[49m\u001b[43m)\u001b[49m\u001b[43m:\u001b[49m\n\u001b[1;32m    305\u001b[0m \u001b[43m        \u001b[49m\u001b[38;5;28;43;01mtry\u001b[39;49;00m\u001b[43m:\u001b[49m\n\u001b[1;32m    306\u001b[0m \u001b[43m            \u001b[49m\u001b[43mf\u001b[49m\u001b[38;5;241;43m.\u001b[39;49m\u001b[43mresult\u001b[49m\u001b[43m(\u001b[49m\u001b[43m)\u001b[49m\n",
      "File \u001b[0;32m~/miniconda3/envs/mlacademy-tutorials/lib/python3.11/concurrent/futures/_base.py:243\u001b[0m, in \u001b[0;36mas_completed\u001b[0;34m(fs, timeout)\u001b[0m\n\u001b[1;32m    238\u001b[0m     \u001b[38;5;28;01mif\u001b[39;00m wait_timeout \u001b[38;5;241m<\u001b[39m \u001b[38;5;241m0\u001b[39m:\n\u001b[1;32m    239\u001b[0m         \u001b[38;5;28;01mraise\u001b[39;00m \u001b[38;5;167;01mTimeoutError\u001b[39;00m(\n\u001b[1;32m    240\u001b[0m                 \u001b[38;5;124m'\u001b[39m\u001b[38;5;132;01m%d\u001b[39;00m\u001b[38;5;124m (of \u001b[39m\u001b[38;5;132;01m%d\u001b[39;00m\u001b[38;5;124m) futures unfinished\u001b[39m\u001b[38;5;124m'\u001b[39m \u001b[38;5;241m%\u001b[39m (\n\u001b[1;32m    241\u001b[0m                 \u001b[38;5;28mlen\u001b[39m(pending), total_futures))\n\u001b[0;32m--> 243\u001b[0m \u001b[43mwaiter\u001b[49m\u001b[38;5;241;43m.\u001b[39;49m\u001b[43mevent\u001b[49m\u001b[38;5;241;43m.\u001b[39;49m\u001b[43mwait\u001b[49m\u001b[43m(\u001b[49m\u001b[43mwait_timeout\u001b[49m\u001b[43m)\u001b[49m\n\u001b[1;32m    245\u001b[0m \u001b[38;5;28;01mwith\u001b[39;00m waiter\u001b[38;5;241m.\u001b[39mlock:\n\u001b[1;32m    246\u001b[0m     finished \u001b[38;5;241m=\u001b[39m waiter\u001b[38;5;241m.\u001b[39mfinished_futures\n",
      "File \u001b[0;32m~/miniconda3/envs/mlacademy-tutorials/lib/python3.11/threading.py:629\u001b[0m, in \u001b[0;36mEvent.wait\u001b[0;34m(self, timeout)\u001b[0m\n\u001b[1;32m    627\u001b[0m signaled \u001b[38;5;241m=\u001b[39m \u001b[38;5;28mself\u001b[39m\u001b[38;5;241m.\u001b[39m_flag\n\u001b[1;32m    628\u001b[0m \u001b[38;5;28;01mif\u001b[39;00m \u001b[38;5;129;01mnot\u001b[39;00m signaled:\n\u001b[0;32m--> 629\u001b[0m     signaled \u001b[38;5;241m=\u001b[39m \u001b[38;5;28;43mself\u001b[39;49m\u001b[38;5;241;43m.\u001b[39;49m\u001b[43m_cond\u001b[49m\u001b[38;5;241;43m.\u001b[39;49m\u001b[43mwait\u001b[49m\u001b[43m(\u001b[49m\u001b[43mtimeout\u001b[49m\u001b[43m)\u001b[49m\n\u001b[1;32m    630\u001b[0m \u001b[38;5;28;01mreturn\u001b[39;00m signaled\n",
      "File \u001b[0;32m~/miniconda3/envs/mlacademy-tutorials/lib/python3.11/threading.py:327\u001b[0m, in \u001b[0;36mCondition.wait\u001b[0;34m(self, timeout)\u001b[0m\n\u001b[1;32m    325\u001b[0m \u001b[38;5;28;01mtry\u001b[39;00m:    \u001b[38;5;66;03m# restore state no matter what (e.g., KeyboardInterrupt)\u001b[39;00m\n\u001b[1;32m    326\u001b[0m     \u001b[38;5;28;01mif\u001b[39;00m timeout \u001b[38;5;129;01mis\u001b[39;00m \u001b[38;5;28;01mNone\u001b[39;00m:\n\u001b[0;32m--> 327\u001b[0m         \u001b[43mwaiter\u001b[49m\u001b[38;5;241;43m.\u001b[39;49m\u001b[43macquire\u001b[49m\u001b[43m(\u001b[49m\u001b[43m)\u001b[49m\n\u001b[1;32m    328\u001b[0m         gotit \u001b[38;5;241m=\u001b[39m \u001b[38;5;28;01mTrue\u001b[39;00m\n\u001b[1;32m    329\u001b[0m     \u001b[38;5;28;01melse\u001b[39;00m:\n",
      "\u001b[0;31mKeyboardInterrupt\u001b[0m: "
     ]
    }
   ],
   "source": [
    "# Load the latest best model (adjust artifact path if needed)\n",
    "model_uri = f\"runs:/{run_id}/best_model_lasso\"  # or ridge_model, etc.\n",
    "latest_best_model = mlflow.sklearn.load_model(model_uri)"
   ]
  },
  {
   "cell_type": "code",
   "execution_count": 45,
   "id": "0f52f275-205d-48d6-95c8-ff134b7a0a67",
   "metadata": {},
   "outputs": [
    {
     "data": {
      "text/html": [
       "<div>\n",
       "<style scoped>\n",
       "    .dataframe tbody tr th:only-of-type {\n",
       "        vertical-align: middle;\n",
       "    }\n",
       "\n",
       "    .dataframe tbody tr th {\n",
       "        vertical-align: top;\n",
       "    }\n",
       "\n",
       "    .dataframe thead th {\n",
       "        text-align: right;\n",
       "    }\n",
       "</style>\n",
       "<table border=\"1\" class=\"dataframe\">\n",
       "  <thead>\n",
       "    <tr style=\"text-align: right;\">\n",
       "      <th></th>\n",
       "      <th>artifact_location</th>\n",
       "      <th>creation_timestamp</th>\n",
       "      <th>experiment_id</th>\n",
       "      <th>last_updated_timestamp</th>\n",
       "      <th>metrics</th>\n",
       "      <th>model_id</th>\n",
       "      <th>model_type</th>\n",
       "      <th>name</th>\n",
       "      <th>params</th>\n",
       "      <th>source_run_id</th>\n",
       "      <th>status</th>\n",
       "      <th>status_message</th>\n",
       "      <th>tags</th>\n",
       "    </tr>\n",
       "  </thead>\n",
       "  <tbody>\n",
       "    <tr>\n",
       "      <th>0</th>\n",
       "      <td>mlflow-artifacts:/830731795768476244/models/m-...</td>\n",
       "      <td>1756192306055</td>\n",
       "      <td>830731795768476244</td>\n",
       "      <td>1756192307163</td>\n",
       "      <td>[&lt;Metric: dataset_digest=None, dataset_name=No...</td>\n",
       "      <td>m-d76ab93137b640c8993748f4178215d4</td>\n",
       "      <td></td>\n",
       "      <td>spiffy-dog-12</td>\n",
       "      <td>{'depth': '8', 'l2_leaf_reg': '4.0634179766038...</td>\n",
       "      <td>3f71187083cd412ba69b04108f2bb432</td>\n",
       "      <td>READY</td>\n",
       "      <td></td>\n",
       "      <td>{'mlflow.user': 'timurbikmuhametov', 'mlflow.s...</td>\n",
       "    </tr>\n",
       "    <tr>\n",
       "      <th>1</th>\n",
       "      <td>mlflow-artifacts:/830731795768476244/models/m-...</td>\n",
       "      <td>1756193083558</td>\n",
       "      <td>830731795768476244</td>\n",
       "      <td>1756193084600</td>\n",
       "      <td>[&lt;Metric: dataset_digest=None, dataset_name=No...</td>\n",
       "      <td>m-b61c642855b04df79bcdef51f57b432b</td>\n",
       "      <td></td>\n",
       "      <td>wine_model_catboost</td>\n",
       "      <td>{'depth': '6', 'learning_rate': '0.1', 'verbos...</td>\n",
       "      <td>eefd64c044d04fffbaf32140fb5c7956</td>\n",
       "      <td>READY</td>\n",
       "      <td></td>\n",
       "      <td>{'mlflow.user': 'timurbikmuhametov', 'mlflow.s...</td>\n",
       "    </tr>\n",
       "    <tr>\n",
       "      <th>2</th>\n",
       "      <td>mlflow-artifacts:/830731795768476244/models/m-...</td>\n",
       "      <td>1756192223680</td>\n",
       "      <td>830731795768476244</td>\n",
       "      <td>1756192224728</td>\n",
       "      <td>[&lt;Metric: dataset_digest=None, dataset_name=No...</td>\n",
       "      <td>m-8cd5b06b8c7b4bd2a09d36319817e91d</td>\n",
       "      <td></td>\n",
       "      <td>wine_model_catboost</td>\n",
       "      <td>{'depth': '6', 'learning_rate': '0.1', 'verbos...</td>\n",
       "      <td>8f626d2e0fb54f6db58031f155b2c663</td>\n",
       "      <td>READY</td>\n",
       "      <td></td>\n",
       "      <td>{'mlflow.user': 'timurbikmuhametov', 'mlflow.s...</td>\n",
       "    </tr>\n",
       "    <tr>\n",
       "      <th>3</th>\n",
       "      <td>mlflow-artifacts:/830731795768476244/models/m-...</td>\n",
       "      <td>1756192270498</td>\n",
       "      <td>830731795768476244</td>\n",
       "      <td>1756192271574</td>\n",
       "      <td>[&lt;Metric: dataset_digest=None, dataset_name=No...</td>\n",
       "      <td>m-da672ccacd2d4f4d81fc4cf9e527b8f3</td>\n",
       "      <td></td>\n",
       "      <td>painted-vole-131</td>\n",
       "      <td>{'depth': '9', 'l2_leaf_reg': '2.0093794150920...</td>\n",
       "      <td>4b4e6971a0334cc68eb474a25f2334fd</td>\n",
       "      <td>READY</td>\n",
       "      <td></td>\n",
       "      <td>{'mlflow.user': 'timurbikmuhametov', 'mlflow.s...</td>\n",
       "    </tr>\n",
       "    <tr>\n",
       "      <th>4</th>\n",
       "      <td>mlflow-artifacts:/830731795768476244/models/m-...</td>\n",
       "      <td>1756192274109</td>\n",
       "      <td>830731795768476244</td>\n",
       "      <td>1756192275294</td>\n",
       "      <td>[&lt;Metric: dataset_digest=None, dataset_name=No...</td>\n",
       "      <td>m-f7bf14510e5d4457a1670b4fa1c4bf88</td>\n",
       "      <td></td>\n",
       "      <td>persistent-hound-566</td>\n",
       "      <td>{'depth': '9', 'l2_leaf_reg': '8.1337789891704...</td>\n",
       "      <td>1479fa2e683a4e9ebae1e9ec837f465f</td>\n",
       "      <td>READY</td>\n",
       "      <td></td>\n",
       "      <td>{'mlflow.user': 'timurbikmuhametov', 'mlflow.s...</td>\n",
       "    </tr>\n",
       "    <tr>\n",
       "      <th>...</th>\n",
       "      <td>...</td>\n",
       "      <td>...</td>\n",
       "      <td>...</td>\n",
       "      <td>...</td>\n",
       "      <td>...</td>\n",
       "      <td>...</td>\n",
       "      <td>...</td>\n",
       "      <td>...</td>\n",
       "      <td>...</td>\n",
       "      <td>...</td>\n",
       "      <td>...</td>\n",
       "      <td>...</td>\n",
       "      <td>...</td>\n",
       "    </tr>\n",
       "    <tr>\n",
       "      <th>71</th>\n",
       "      <td>mlflow-artifacts:/830731795768476244/models/m-...</td>\n",
       "      <td>1756192238594</td>\n",
       "      <td>830731795768476244</td>\n",
       "      <td>1756192239423</td>\n",
       "      <td>[&lt;Metric: dataset_digest=None, dataset_name=No...</td>\n",
       "      <td>m-4f4e94ac7c624c2eabab75031c15a4be</td>\n",
       "      <td></td>\n",
       "      <td>resilient-dolphin-10</td>\n",
       "      <td>{'alpha': '0.2154434690031884'}</td>\n",
       "      <td>42f12ac26d7b4cda92b76ef3bc55636f</td>\n",
       "      <td>READY</td>\n",
       "      <td></td>\n",
       "      <td>{'mlflow.user': 'timurbikmuhametov', 'mlflow.s...</td>\n",
       "    </tr>\n",
       "    <tr>\n",
       "      <th>72</th>\n",
       "      <td>mlflow-artifacts:/830731795768476244/models/m-...</td>\n",
       "      <td>1756193168834</td>\n",
       "      <td>830731795768476244</td>\n",
       "      <td>1756193169656</td>\n",
       "      <td>[&lt;Metric: dataset_digest=None, dataset_name=No...</td>\n",
       "      <td>m-41f9f176ed2c424f84eb510f34705d50</td>\n",
       "      <td></td>\n",
       "      <td>nervous-deer-363</td>\n",
       "      <td>{'alpha': '0.4641588833612779'}</td>\n",
       "      <td>e04619e4b1a74c5cb2a4824896aaf925</td>\n",
       "      <td>READY</td>\n",
       "      <td></td>\n",
       "      <td>{'mlflow.user': 'timurbikmuhametov', 'mlflow.s...</td>\n",
       "    </tr>\n",
       "    <tr>\n",
       "      <th>73</th>\n",
       "      <td>mlflow-artifacts:/830731795768476244/models/m-...</td>\n",
       "      <td>1756192237741</td>\n",
       "      <td>830731795768476244</td>\n",
       "      <td>1756192238565</td>\n",
       "      <td>[&lt;Metric: dataset_digest=None, dataset_name=No...</td>\n",
       "      <td>m-e1ed3129a3304c38bf002824904054fb</td>\n",
       "      <td></td>\n",
       "      <td>righteous-ant-325</td>\n",
       "      <td>{'alpha': '0.4641588833612779'}</td>\n",
       "      <td>763c8eab7a20457091061ffa2e196b9a</td>\n",
       "      <td>READY</td>\n",
       "      <td></td>\n",
       "      <td>{'mlflow.user': 'timurbikmuhametov', 'mlflow.s...</td>\n",
       "    </tr>\n",
       "    <tr>\n",
       "      <th>74</th>\n",
       "      <td>mlflow-artifacts:/830731795768476244/models/m-...</td>\n",
       "      <td>1756193167957</td>\n",
       "      <td>830731795768476244</td>\n",
       "      <td>1756193168804</td>\n",
       "      <td>[&lt;Metric: dataset_digest=None, dataset_name=No...</td>\n",
       "      <td>m-c3cafa554a954fad838b44498699e6a1</td>\n",
       "      <td></td>\n",
       "      <td>dazzling-stoat-177</td>\n",
       "      <td>{'alpha': '1.0'}</td>\n",
       "      <td>709a3b328ea943128bab39f65058960c</td>\n",
       "      <td>READY</td>\n",
       "      <td></td>\n",
       "      <td>{'mlflow.user': 'timurbikmuhametov', 'mlflow.s...</td>\n",
       "    </tr>\n",
       "    <tr>\n",
       "      <th>75</th>\n",
       "      <td>mlflow-artifacts:/830731795768476244/models/m-...</td>\n",
       "      <td>1756192236868</td>\n",
       "      <td>830731795768476244</td>\n",
       "      <td>1756192237711</td>\n",
       "      <td>[&lt;Metric: dataset_digest=None, dataset_name=No...</td>\n",
       "      <td>m-496af79b375044998b312b4b80fceeb7</td>\n",
       "      <td></td>\n",
       "      <td>ambitious-snake-748</td>\n",
       "      <td>{'alpha': '1.0'}</td>\n",
       "      <td>60c5acf8b33e4e1a808a15360f8e556d</td>\n",
       "      <td>READY</td>\n",
       "      <td></td>\n",
       "      <td>{'mlflow.user': 'timurbikmuhametov', 'mlflow.s...</td>\n",
       "    </tr>\n",
       "  </tbody>\n",
       "</table>\n",
       "<p>76 rows × 13 columns</p>\n",
       "</div>"
      ],
      "text/plain": [
       "                                    artifact_location  creation_timestamp  \\\n",
       "0   mlflow-artifacts:/830731795768476244/models/m-...       1756192306055   \n",
       "1   mlflow-artifacts:/830731795768476244/models/m-...       1756193083558   \n",
       "2   mlflow-artifacts:/830731795768476244/models/m-...       1756192223680   \n",
       "3   mlflow-artifacts:/830731795768476244/models/m-...       1756192270498   \n",
       "4   mlflow-artifacts:/830731795768476244/models/m-...       1756192274109   \n",
       "..                                                ...                 ...   \n",
       "71  mlflow-artifacts:/830731795768476244/models/m-...       1756192238594   \n",
       "72  mlflow-artifacts:/830731795768476244/models/m-...       1756193168834   \n",
       "73  mlflow-artifacts:/830731795768476244/models/m-...       1756192237741   \n",
       "74  mlflow-artifacts:/830731795768476244/models/m-...       1756193167957   \n",
       "75  mlflow-artifacts:/830731795768476244/models/m-...       1756192236868   \n",
       "\n",
       "         experiment_id  last_updated_timestamp  \\\n",
       "0   830731795768476244           1756192307163   \n",
       "1   830731795768476244           1756193084600   \n",
       "2   830731795768476244           1756192224728   \n",
       "3   830731795768476244           1756192271574   \n",
       "4   830731795768476244           1756192275294   \n",
       "..                 ...                     ...   \n",
       "71  830731795768476244           1756192239423   \n",
       "72  830731795768476244           1756193169656   \n",
       "73  830731795768476244           1756192238565   \n",
       "74  830731795768476244           1756193168804   \n",
       "75  830731795768476244           1756192237711   \n",
       "\n",
       "                                              metrics  \\\n",
       "0   [<Metric: dataset_digest=None, dataset_name=No...   \n",
       "1   [<Metric: dataset_digest=None, dataset_name=No...   \n",
       "2   [<Metric: dataset_digest=None, dataset_name=No...   \n",
       "3   [<Metric: dataset_digest=None, dataset_name=No...   \n",
       "4   [<Metric: dataset_digest=None, dataset_name=No...   \n",
       "..                                                ...   \n",
       "71  [<Metric: dataset_digest=None, dataset_name=No...   \n",
       "72  [<Metric: dataset_digest=None, dataset_name=No...   \n",
       "73  [<Metric: dataset_digest=None, dataset_name=No...   \n",
       "74  [<Metric: dataset_digest=None, dataset_name=No...   \n",
       "75  [<Metric: dataset_digest=None, dataset_name=No...   \n",
       "\n",
       "                              model_id model_type                  name  \\\n",
       "0   m-d76ab93137b640c8993748f4178215d4                    spiffy-dog-12   \n",
       "1   m-b61c642855b04df79bcdef51f57b432b              wine_model_catboost   \n",
       "2   m-8cd5b06b8c7b4bd2a09d36319817e91d              wine_model_catboost   \n",
       "3   m-da672ccacd2d4f4d81fc4cf9e527b8f3                 painted-vole-131   \n",
       "4   m-f7bf14510e5d4457a1670b4fa1c4bf88             persistent-hound-566   \n",
       "..                                 ...        ...                   ...   \n",
       "71  m-4f4e94ac7c624c2eabab75031c15a4be             resilient-dolphin-10   \n",
       "72  m-41f9f176ed2c424f84eb510f34705d50                 nervous-deer-363   \n",
       "73  m-e1ed3129a3304c38bf002824904054fb                righteous-ant-325   \n",
       "74  m-c3cafa554a954fad838b44498699e6a1               dazzling-stoat-177   \n",
       "75  m-496af79b375044998b312b4b80fceeb7              ambitious-snake-748   \n",
       "\n",
       "                                               params  \\\n",
       "0   {'depth': '8', 'l2_leaf_reg': '4.0634179766038...   \n",
       "1   {'depth': '6', 'learning_rate': '0.1', 'verbos...   \n",
       "2   {'depth': '6', 'learning_rate': '0.1', 'verbos...   \n",
       "3   {'depth': '9', 'l2_leaf_reg': '2.0093794150920...   \n",
       "4   {'depth': '9', 'l2_leaf_reg': '8.1337789891704...   \n",
       "..                                                ...   \n",
       "71                    {'alpha': '0.2154434690031884'}   \n",
       "72                    {'alpha': '0.4641588833612779'}   \n",
       "73                    {'alpha': '0.4641588833612779'}   \n",
       "74                                   {'alpha': '1.0'}   \n",
       "75                                   {'alpha': '1.0'}   \n",
       "\n",
       "                       source_run_id status status_message  \\\n",
       "0   3f71187083cd412ba69b04108f2bb432  READY                  \n",
       "1   eefd64c044d04fffbaf32140fb5c7956  READY                  \n",
       "2   8f626d2e0fb54f6db58031f155b2c663  READY                  \n",
       "3   4b4e6971a0334cc68eb474a25f2334fd  READY                  \n",
       "4   1479fa2e683a4e9ebae1e9ec837f465f  READY                  \n",
       "..                               ...    ...            ...   \n",
       "71  42f12ac26d7b4cda92b76ef3bc55636f  READY                  \n",
       "72  e04619e4b1a74c5cb2a4824896aaf925  READY                  \n",
       "73  763c8eab7a20457091061ffa2e196b9a  READY                  \n",
       "74  709a3b328ea943128bab39f65058960c  READY                  \n",
       "75  60c5acf8b33e4e1a808a15360f8e556d  READY                  \n",
       "\n",
       "                                                 tags  \n",
       "0   {'mlflow.user': 'timurbikmuhametov', 'mlflow.s...  \n",
       "1   {'mlflow.user': 'timurbikmuhametov', 'mlflow.s...  \n",
       "2   {'mlflow.user': 'timurbikmuhametov', 'mlflow.s...  \n",
       "3   {'mlflow.user': 'timurbikmuhametov', 'mlflow.s...  \n",
       "4   {'mlflow.user': 'timurbikmuhametov', 'mlflow.s...  \n",
       "..                                                ...  \n",
       "71  {'mlflow.user': 'timurbikmuhametov', 'mlflow.s...  \n",
       "72  {'mlflow.user': 'timurbikmuhametov', 'mlflow.s...  \n",
       "73  {'mlflow.user': 'timurbikmuhametov', 'mlflow.s...  \n",
       "74  {'mlflow.user': 'timurbikmuhametov', 'mlflow.s...  \n",
       "75  {'mlflow.user': 'timurbikmuhametov', 'mlflow.s...  \n",
       "\n",
       "[76 rows x 13 columns]"
      ]
     },
     "execution_count": 45,
     "metadata": {},
     "output_type": "execute_result"
    }
   ],
   "source": [
    "top_models"
   ]
  },
  {
   "cell_type": "code",
   "execution_count": null,
   "id": "1abc7a02-75e5-41f5-998a-8087c63d9152",
   "metadata": {},
   "outputs": [],
   "source": []
  },
  {
   "cell_type": "code",
   "execution_count": null,
   "id": "f8186915-95ca-48c0-b16f-e19392d8faeb",
   "metadata": {},
   "outputs": [],
   "source": []
  },
  {
   "cell_type": "markdown",
   "id": "587ed880-9542-41fc-ad83-29b036b2ab5d",
   "metadata": {},
   "source": [
    "### Searching by logged models"
   ]
  },
  {
   "cell_type": "code",
   "execution_count": 42,
   "id": "596c22e5-2cef-401b-a44f-64200b45552f",
   "metadata": {},
   "outputs": [
    {
     "name": "stdout",
     "output_type": "stream",
     "text": [
      "Experiment 'Wine Quality Regression' has ID: 830731795768476244\n"
     ]
    }
   ],
   "source": [
    "# Get experiment by name\n",
    "experiment_name = \"Wine Quality Regression\"\n",
    "experiment = mlflow.get_experiment_by_name(experiment_name)\n",
    "\n",
    "if experiment:\n",
    "    experiment_id = experiment.experiment_id\n",
    "    print(f\"Experiment '{experiment_name}' has ID: {experiment_id}\")\n",
    "else:\n",
    "    print(f\"Experiment '{experiment_name}' not found\")"
   ]
  },
  {
   "cell_type": "code",
   "execution_count": 43,
   "id": "982e8a2c-bccf-4833-98fb-5cfd88e2eeba",
   "metadata": {},
   "outputs": [
    {
     "data": {
      "text/plain": [
       "artifact_location         mlflow-artifacts:/830731795768476244/models/m-...\n",
       "creation_timestamp                                            1756192306055\n",
       "experiment_id                                            830731795768476244\n",
       "last_updated_timestamp                                        1756192307163\n",
       "metrics                   [<Metric: dataset_digest=None, dataset_name=No...\n",
       "model_id                                 m-d76ab93137b640c8993748f4178215d4\n",
       "model_type                                                                 \n",
       "name                                                          spiffy-dog-12\n",
       "params                    {'depth': '8', 'l2_leaf_reg': '4.0634179766038...\n",
       "source_run_id                              3f71187083cd412ba69b04108f2bb432\n",
       "status                                                                READY\n",
       "status_message                                                             \n",
       "tags                      {'mlflow.user': 'timurbikmuhametov', 'mlflow.s...\n",
       "Name: 0, dtype: object"
      ]
     },
     "execution_count": 43,
     "metadata": {},
     "output_type": "execute_result"
    }
   ],
   "source": [
    "# Find high-performing models across experiments\n",
    "top_models = mlflow.search_logged_models(\n",
    "    experiment_ids=[str(experiment_id)],\n",
    "    filter_string=\"metrics.rmse_test < 0.9\",\n",
    "    order_by=[{\"field_name\": \"metrics.rmse_val\", \"ascending\": True}],\n",
    ")\n",
    "best_model = top_models.iloc[0]\n",
    "best_model"
   ]
  },
  {
   "cell_type": "code",
   "execution_count": 44,
   "id": "f578d1f5-5362-4160-bf13-e71b1e91352b",
   "metadata": {},
   "outputs": [
    {
     "data": {
      "application/vnd.jupyter.widget-view+json": {
       "model_id": "05052bf2aca7448d80be4e9e8a42d82b",
       "version_major": 2,
       "version_minor": 0
      },
      "text/plain": [
       "Downloading artifacts:   0%|          | 0/5 [00:00<?, ?it/s]"
      ]
     },
     "metadata": {},
     "output_type": "display_data"
    },
    {
     "name": "stdout",
     "output_type": "stream",
     "text": [
      "RMSE on test set: 0.5767523306773067\n"
     ]
    }
   ],
   "source": [
    "# Load the best model for inference\n",
    "loaded_model = mlflow.pyfunc.load_model(f\"models:/{best_model.model_id}\")\n",
    "y_pred = loaded_model.predict(x_test)\n",
    "rmse_test = np.sqrt(mean_squared_error(y_test, y_pred))\n",
    "print(f\"RMSE on test set: {rmse_test}\")"
   ]
  },
  {
   "cell_type": "markdown",
   "id": "9efa1a5e-036d-4482-8fdf-3abee47c2901",
   "metadata": {},
   "source": [
    "## Child runs"
   ]
  },
  {
   "cell_type": "markdown",
   "id": "5967ed85",
   "metadata": {},
   "source": [
    "### Grid search for LASSO"
   ]
  },
  {
   "cell_type": "code",
   "execution_count": 14,
   "id": "581b226e",
   "metadata": {},
   "outputs": [],
   "source": [
    "def log_run_child(\n",
    "        run_name: str,\n",
    "        params: dict,\n",
    "        metrics: dict,\n",
    "        tags: dict,\n",
    "        trained_model,\n",
    "        model_type='Lasso',\n",
    "        input_example=None,\n",
    "        registered_model_name=None,\n",
    "        iteration=None\n",
    "        ):\n",
    "    \"\"\"\n",
    "    Log a run to MLflow\n",
    "    \"\"\"\n",
    "    with mlflow.start_run(run_name=f\"{run_name}_iteration_{iteration}\", nested=True):\n",
    "        mlflow.log_params(params)\n",
    "        mlflow.log_metrics(metrics)\n",
    "        mlflow.set_tag(\"model_version\", run_name)\n",
    "        mlflow.set_tags(tags)\n",
    "\n",
    "        if model_type == 'Lasso':\n",
    "            # Log sklearn model\n",
    "            model_info = mlflow.sklearn.log_model(\n",
    "                sk_model=trained_model,\n",
    "                input_example=input_example,\n",
    "                registered_model_name=registered_model_name,\n",
    "            )\n",
    "        elif model_type == 'CatBoost':\n",
    "            # Log CatBoost model\n",
    "            model_info = mlflow.catboost.log_model(\n",
    "                cb_model=trained_model,\n",
    "                input_example=input_example,\n",
    "                registered_model_name=registered_model_name,\n",
    "            )\n",
    "        else:\n",
    "            raise ValueError(f\"Model type {model_type} not supported\")\n",
    "    \n",
    "    return model_info"
   ]
  },
  {
   "cell_type": "code",
   "execution_count": 15,
   "id": "df474585",
   "metadata": {},
   "outputs": [
    {
     "name": "stdout",
     "output_type": "stream",
     "text": [
      "RMSE val = 0.7546000742808262, RMSE test = 0.7374379792573892\n"
     ]
    },
    {
     "name": "stderr",
     "output_type": "stream",
     "text": [
      "\u001b[31m2025/08/26 11:26:08 WARNING mlflow.models.model: Model logged without a signature and input example. Please set `input_example` parameter when logging the model to auto infer the model signature.\u001b[0m\n"
     ]
    },
    {
     "name": "stdout",
     "output_type": "stream",
     "text": [
      "🏃 View run Lasso_child_runs_1_0.001_iteration_0 at: http://127.0.0.1:8080/#/experiments/830731795768476244/runs/709a3b328ea943128bab39f65058960c\n",
      "🧪 View experiment at: http://127.0.0.1:8080/#/experiments/830731795768476244\n",
      "RMSE val = 0.7541178879815691, RMSE test = 0.7366319489063405\n"
     ]
    },
    {
     "name": "stderr",
     "output_type": "stream",
     "text": [
      "\u001b[31m2025/08/26 11:26:09 WARNING mlflow.models.model: Model logged without a signature and input example. Please set `input_example` parameter when logging the model to auto infer the model signature.\u001b[0m\n"
     ]
    },
    {
     "name": "stdout",
     "output_type": "stream",
     "text": [
      "🏃 View run Lasso_child_runs_1_0.001_iteration_1 at: http://127.0.0.1:8080/#/experiments/830731795768476244/runs/e04619e4b1a74c5cb2a4824896aaf925\n",
      "🧪 View experiment at: http://127.0.0.1:8080/#/experiments/830731795768476244\n",
      "RMSE val = 0.6762060849767165, RMSE test = 0.6743324662326164\n"
     ]
    },
    {
     "name": "stderr",
     "output_type": "stream",
     "text": [
      "\u001b[31m2025/08/26 11:26:10 WARNING mlflow.models.model: Model logged without a signature and input example. Please set `input_example` parameter when logging the model to auto infer the model signature.\u001b[0m\n"
     ]
    },
    {
     "name": "stdout",
     "output_type": "stream",
     "text": [
      "🏃 View run Lasso_child_runs_1_0.001_iteration_2 at: http://127.0.0.1:8080/#/experiments/830731795768476244/runs/cc998ebe8dfe4fee8609a5c6e36eeb3c\n",
      "🧪 View experiment at: http://127.0.0.1:8080/#/experiments/830731795768476244\n",
      "RMSE val = 0.6356127117266147, RMSE test = 0.638554128638353\n"
     ]
    },
    {
     "name": "stderr",
     "output_type": "stream",
     "text": [
      "\u001b[31m2025/08/26 11:26:11 WARNING mlflow.models.model: Model logged without a signature and input example. Please set `input_example` parameter when logging the model to auto infer the model signature.\u001b[0m\n"
     ]
    },
    {
     "name": "stdout",
     "output_type": "stream",
     "text": [
      "🏃 View run Lasso_child_runs_1_0.001_iteration_3 at: http://127.0.0.1:8080/#/experiments/830731795768476244/runs/9f50613886554184a1597768e5adaaa0\n",
      "🧪 View experiment at: http://127.0.0.1:8080/#/experiments/830731795768476244\n",
      "RMSE val = 0.6255559065512195, RMSE test = 0.628923587071802\n"
     ]
    },
    {
     "name": "stderr",
     "output_type": "stream",
     "text": [
      "\u001b[31m2025/08/26 11:26:12 WARNING mlflow.models.model: Model logged without a signature and input example. Please set `input_example` parameter when logging the model to auto infer the model signature.\u001b[0m\n"
     ]
    },
    {
     "name": "stdout",
     "output_type": "stream",
     "text": [
      "🏃 View run Lasso_child_runs_1_0.001_iteration_4 at: http://127.0.0.1:8080/#/experiments/830731795768476244/runs/ad8c52dd948d4d5f90109a77e8c156cb\n",
      "🧪 View experiment at: http://127.0.0.1:8080/#/experiments/830731795768476244\n",
      "RMSE val = 0.5921306582799698, RMSE test = 0.6128059355142866\n"
     ]
    },
    {
     "name": "stderr",
     "output_type": "stream",
     "text": [
      "\u001b[31m2025/08/26 11:26:13 WARNING mlflow.models.model: Model logged without a signature and input example. Please set `input_example` parameter when logging the model to auto infer the model signature.\u001b[0m\n"
     ]
    },
    {
     "name": "stdout",
     "output_type": "stream",
     "text": [
      "🏃 View run Lasso_child_runs_1_0.001_iteration_5 at: http://127.0.0.1:8080/#/experiments/830731795768476244/runs/d62791a74beb4fbe91cd912f8f388758\n",
      "🧪 View experiment at: http://127.0.0.1:8080/#/experiments/830731795768476244\n",
      "RMSE val = 0.5803887110911056, RMSE test = 0.605750602168249\n"
     ]
    },
    {
     "name": "stderr",
     "output_type": "stream",
     "text": [
      "\u001b[31m2025/08/26 11:26:13 WARNING mlflow.models.model: Model logged without a signature and input example. Please set `input_example` parameter when logging the model to auto infer the model signature.\u001b[0m\n"
     ]
    },
    {
     "name": "stdout",
     "output_type": "stream",
     "text": [
      "🏃 View run Lasso_child_runs_1_0.001_iteration_6 at: http://127.0.0.1:8080/#/experiments/830731795768476244/runs/b557493a5b494f0a81d46cf1520e51b7\n",
      "🧪 View experiment at: http://127.0.0.1:8080/#/experiments/830731795768476244\n",
      "RMSE val = 0.5771690201433481, RMSE test = 0.6060892593315526\n"
     ]
    },
    {
     "name": "stderr",
     "output_type": "stream",
     "text": [
      "\u001b[31m2025/08/26 11:26:14 WARNING mlflow.models.model: Model logged without a signature and input example. Please set `input_example` parameter when logging the model to auto infer the model signature.\u001b[0m\n"
     ]
    },
    {
     "name": "stdout",
     "output_type": "stream",
     "text": [
      "🏃 View run Lasso_child_runs_1_0.001_iteration_7 at: http://127.0.0.1:8080/#/experiments/830731795768476244/runs/82303a327f144f7ea187491b02d139c9\n",
      "🧪 View experiment at: http://127.0.0.1:8080/#/experiments/830731795768476244\n",
      "RMSE val = 0.5726741757910615, RMSE test = 0.6072882839308418\n"
     ]
    },
    {
     "name": "stderr",
     "output_type": "stream",
     "text": [
      "\u001b[31m2025/08/26 11:26:15 WARNING mlflow.models.model: Model logged without a signature and input example. Please set `input_example` parameter when logging the model to auto infer the model signature.\u001b[0m\n"
     ]
    },
    {
     "name": "stdout",
     "output_type": "stream",
     "text": [
      "🏃 View run Lasso_child_runs_1_0.001_iteration_8 at: http://127.0.0.1:8080/#/experiments/830731795768476244/runs/f0690631b3cd465fb8300f7f8c722298\n",
      "🧪 View experiment at: http://127.0.0.1:8080/#/experiments/830731795768476244\n",
      "RMSE val = 0.5713198123541341, RMSE test = 0.6098083649853254\n"
     ]
    },
    {
     "name": "stderr",
     "output_type": "stream",
     "text": [
      "\u001b[31m2025/08/26 11:26:16 WARNING mlflow.models.model: Model logged without a signature and input example. Please set `input_example` parameter when logging the model to auto infer the model signature.\u001b[0m\n"
     ]
    },
    {
     "name": "stdout",
     "output_type": "stream",
     "text": [
      "🏃 View run Lasso_child_runs_1_0.001_iteration_9 at: http://127.0.0.1:8080/#/experiments/830731795768476244/runs/1038d33468464679b53e3a7b49145797\n",
      "🧪 View experiment at: http://127.0.0.1:8080/#/experiments/830731795768476244\n",
      "🏃 View run Lasso_child_runs_1_0.001 at: http://127.0.0.1:8080/#/experiments/830731795768476244/runs/ec94a86470794afca586ef7c6d140e23\n",
      "🧪 View experiment at: http://127.0.0.1:8080/#/experiments/830731795768476244\n"
     ]
    }
   ],
   "source": [
    "# Specify several alphas\n",
    "alpha_range = np.logspace(0, -3, num=10).tolist()\n",
    "run_name = 'Lasso_child_runs_1_0.001'\n",
    "\n",
    "with mlflow.start_run(run_name=run_name):\n",
    "    for idx, alpha in enumerate(alpha_range):\n",
    "        params = {'alpha': alpha}\n",
    "        # Train the model\n",
    "        trained_model, rmse_val, rmse_test = train_model(df, params, model='Lasso')\n",
    "        # Prepare metrics\n",
    "        metrics = {'rmse_val': rmse_val, 'rmse_test': rmse_test}\n",
    "    # Log everything using our function\n",
    "        model_info = log_run_child(\n",
    "            run_name=run_name,\n",
    "            params=params,\n",
    "            metrics=metrics,\n",
    "            tags=tags,\n",
    "            trained_model=trained_model,\n",
    "            model_type='Lasso',\n",
    "            iteration=idx\n",
    "        )"
   ]
  },
  {
   "cell_type": "markdown",
   "id": "cc0f12aa-3661-40c4-8d27-1ec4a10663e2",
   "metadata": {},
   "source": [
    "### Child runs with Optuna"
   ]
  },
  {
   "cell_type": "code",
   "execution_count": 16,
   "id": "9c8fb089",
   "metadata": {},
   "outputs": [],
   "source": [
    "def objective(\n",
    "    trial: optuna.Trial, \n",
    "    x_train: np.ndarray, \n",
    "    y_train: np.ndarray, \n",
    "    x_val: np.ndarray, \n",
    "    y_val: np.ndarray, \n",
    "    x_test: np.ndarray, \n",
    "    y_test: np.ndarray\n",
    ") -> float:\n",
    "    np.random.seed(42)\n",
    "    \"\"\"Optimize CatBoost hyperparameters using Optuna.\"\"\"\n",
    "    # Sample CatBoost hyperparameters (fixed iterations for faster trials)\n",
    "    params: Dict[str, Union[int, float, bool]] = {\n",
    "        'iterations': 100,  # Fixed iterations for trials\n",
    "        'learning_rate': trial.suggest_float('learning_rate', 0.01, 0.3, log=True),\n",
    "        'depth': trial.suggest_int('depth', 4, 10),\n",
    "        'l2_leaf_reg': trial.suggest_float('l2_leaf_reg', 1, 10),\n",
    "        'random_seed': 42,\n",
    "        'verbose': False\n",
    "    }\n",
    "    \n",
    "    model: CatBoostRegressor = CatBoostRegressor(**params)\n",
    "    model.fit(x_train, y_train)\n",
    "    \n",
    "    # Predictions\n",
    "    y_pred_val: np.ndarray = model.predict(x_val)\n",
    "    y_pred_test: np.ndarray = model.predict(x_test)\n",
    "    \n",
    "    # Errors\n",
    "    rmse_val: float = np.sqrt(mean_squared_error(y_val, y_pred_val))\n",
    "    rmse_test: float = np.sqrt(mean_squared_error(y_test, y_pred_test))\n",
    "    \n",
    "    # Log the run with log_run_child\n",
    "    log_run_child(\n",
    "        run_name=run_name,\n",
    "        params=params,\n",
    "        metrics={'rmse_val': rmse_val, 'rmse_test': rmse_test},\n",
    "        tags={'model_version': 'catboost_optuna', 'trial': trial.number},\n",
    "        trained_model=model,\n",
    "        model_type='CatBoost',\n",
    "        iteration=trial.number\n",
    "    )\n",
    "    \n",
    "    return round(rmse_val, 3)"
   ]
  },
  {
   "cell_type": "code",
   "execution_count": 17,
   "id": "52b5229c",
   "metadata": {
    "scrolled": true
   },
   "outputs": [
    {
     "name": "stderr",
     "output_type": "stream",
     "text": [
      "[I 2025-08-26 11:10:50,966] A new study created in memory with name: no-name-d03a183d-377d-488b-87e6-2e810d933c2b\n",
      "\u001b[31m2025/08/26 11:10:52 WARNING mlflow.models.model: Model logged without a signature and input example. Please set `input_example` parameter when logging the model to auto infer the model signature.\u001b[0m\n",
      "[I 2025-08-26 11:10:52,311] Trial 0 finished with value: 0.596 and parameters: {'learning_rate': 0.03574712922600244, 'depth': 10, 'l2_leaf_reg': 7.587945476302646}. Best is trial 0 with value: 0.596.\n"
     ]
    },
    {
     "name": "stdout",
     "output_type": "stream",
     "text": [
      "🏃 View run Catboost_optuna_iteration_0 at: http://127.0.0.1:8080/#/experiments/830731795768476244/runs/524ed5c586854d019ca57d263959d491\n",
      "🧪 View experiment at: http://127.0.0.1:8080/#/experiments/830731795768476244\n"
     ]
    },
    {
     "name": "stderr",
     "output_type": "stream",
     "text": [
      "\u001b[31m2025/08/26 11:10:53 WARNING mlflow.models.model: Model logged without a signature and input example. Please set `input_example` parameter when logging the model to auto infer the model signature.\u001b[0m\n",
      "[I 2025-08-26 11:10:53,417] Trial 1 finished with value: 0.574 and parameters: {'learning_rate': 0.07661100707771368, 'depth': 5, 'l2_leaf_reg': 2.403950683025824}. Best is trial 1 with value: 0.574.\n"
     ]
    },
    {
     "name": "stdout",
     "output_type": "stream",
     "text": [
      "🏃 View run Catboost_optuna_iteration_1 at: http://127.0.0.1:8080/#/experiments/830731795768476244/runs/5a9225433bb64996aced6d731c6a0456\n",
      "🧪 View experiment at: http://127.0.0.1:8080/#/experiments/830731795768476244\n"
     ]
    },
    {
     "name": "stderr",
     "output_type": "stream",
     "text": [
      "\u001b[31m2025/08/26 11:10:54 WARNING mlflow.models.model: Model logged without a signature and input example. Please set `input_example` parameter when logging the model to auto infer the model signature.\u001b[0m\n",
      "[I 2025-08-26 11:10:54,748] Trial 2 finished with value: 0.653 and parameters: {'learning_rate': 0.012184186502221764, 'depth': 10, 'l2_leaf_reg': 6.41003510568888}. Best is trial 1 with value: 0.574.\n"
     ]
    },
    {
     "name": "stdout",
     "output_type": "stream",
     "text": [
      "🏃 View run Catboost_optuna_iteration_2 at: http://127.0.0.1:8080/#/experiments/830731795768476244/runs/c35cd45a588c489aa99cf5e9164e3229\n",
      "🧪 View experiment at: http://127.0.0.1:8080/#/experiments/830731795768476244\n"
     ]
    },
    {
     "name": "stderr",
     "output_type": "stream",
     "text": [
      "\u001b[31m2025/08/26 11:10:55 WARNING mlflow.models.model: Model logged without a signature and input example. Please set `input_example` parameter when logging the model to auto infer the model signature.\u001b[0m\n",
      "[I 2025-08-26 11:10:55,882] Trial 3 finished with value: 0.566 and parameters: {'learning_rate': 0.11114989443094977, 'depth': 4, 'l2_leaf_reg': 9.72918866945795}. Best is trial 3 with value: 0.566.\n"
     ]
    },
    {
     "name": "stdout",
     "output_type": "stream",
     "text": [
      "🏃 View run Catboost_optuna_iteration_3 at: http://127.0.0.1:8080/#/experiments/830731795768476244/runs/0fc3d3510a284f429ffacd4965805297\n",
      "🧪 View experiment at: http://127.0.0.1:8080/#/experiments/830731795768476244\n"
     ]
    },
    {
     "name": "stderr",
     "output_type": "stream",
     "text": [
      "\u001b[31m2025/08/26 11:10:56 WARNING mlflow.models.model: Model logged without a signature and input example. Please set `input_example` parameter when logging the model to auto infer the model signature.\u001b[0m\n",
      "[I 2025-08-26 11:10:57,000] Trial 4 finished with value: 0.568 and parameters: {'learning_rate': 0.16967533607196555, 'depth': 5, 'l2_leaf_reg': 2.636424704863906}. Best is trial 3 with value: 0.566.\n"
     ]
    },
    {
     "name": "stdout",
     "output_type": "stream",
     "text": [
      "🏃 View run Catboost_optuna_iteration_4 at: http://127.0.0.1:8080/#/experiments/830731795768476244/runs/a8d2c6eba8ae483fa586ef4bb440ad84\n",
      "🧪 View experiment at: http://127.0.0.1:8080/#/experiments/830731795768476244\n"
     ]
    },
    {
     "name": "stderr",
     "output_type": "stream",
     "text": [
      "\u001b[31m2025/08/26 11:10:58 WARNING mlflow.models.model: Model logged without a signature and input example. Please set `input_example` parameter when logging the model to auto infer the model signature.\u001b[0m\n",
      "[I 2025-08-26 11:10:58,136] Trial 5 finished with value: 0.601 and parameters: {'learning_rate': 0.018659959624904916, 'depth': 6, 'l2_leaf_reg': 5.72280788469014}. Best is trial 3 with value: 0.566.\n"
     ]
    },
    {
     "name": "stdout",
     "output_type": "stream",
     "text": [
      "🏃 View run Catboost_optuna_iteration_5 at: http://127.0.0.1:8080/#/experiments/830731795768476244/runs/2ca3f8df9fe540cc97dfd58819576965\n",
      "🧪 View experiment at: http://127.0.0.1:8080/#/experiments/830731795768476244\n"
     ]
    },
    {
     "name": "stderr",
     "output_type": "stream",
     "text": [
      "\u001b[31m2025/08/26 11:10:59 WARNING mlflow.models.model: Model logged without a signature and input example. Please set `input_example` parameter when logging the model to auto infer the model signature.\u001b[0m\n",
      "[I 2025-08-26 11:10:59,256] Trial 6 finished with value: 0.571 and parameters: {'learning_rate': 0.04345454109729477, 'depth': 6, 'l2_leaf_reg': 6.506676052501415}. Best is trial 3 with value: 0.566.\n"
     ]
    },
    {
     "name": "stdout",
     "output_type": "stream",
     "text": [
      "🏃 View run Catboost_optuna_iteration_6 at: http://127.0.0.1:8080/#/experiments/830731795768476244/runs/27299a3577a245998429036e9c071731\n",
      "🧪 View experiment at: http://127.0.0.1:8080/#/experiments/830731795768476244\n"
     ]
    },
    {
     "name": "stderr",
     "output_type": "stream",
     "text": [
      "\u001b[31m2025/08/26 11:11:00 WARNING mlflow.models.model: Model logged without a signature and input example. Please set `input_example` parameter when logging the model to auto infer the model signature.\u001b[0m\n",
      "[I 2025-08-26 11:11:00,497] Trial 7 finished with value: 0.605 and parameters: {'learning_rate': 0.01607123851203988, 'depth': 6, 'l2_leaf_reg': 4.297256589643226}. Best is trial 3 with value: 0.566.\n"
     ]
    },
    {
     "name": "stdout",
     "output_type": "stream",
     "text": [
      "🏃 View run Catboost_optuna_iteration_7 at: http://127.0.0.1:8080/#/experiments/830731795768476244/runs/866f662fcdc643daa908830cad905c12\n",
      "🧪 View experiment at: http://127.0.0.1:8080/#/experiments/830731795768476244\n"
     ]
    },
    {
     "name": "stderr",
     "output_type": "stream",
     "text": [
      "\u001b[31m2025/08/26 11:11:01 WARNING mlflow.models.model: Model logged without a signature and input example. Please set `input_example` parameter when logging the model to auto infer the model signature.\u001b[0m\n",
      "[I 2025-08-26 11:11:01,850] Trial 8 finished with value: 0.565 and parameters: {'learning_rate': 0.04717052037625178, 'depth': 9, 'l2_leaf_reg': 2.7970640394252375}. Best is trial 8 with value: 0.565.\n"
     ]
    },
    {
     "name": "stdout",
     "output_type": "stream",
     "text": [
      "🏃 View run Catboost_optuna_iteration_8 at: http://127.0.0.1:8080/#/experiments/830731795768476244/runs/02820ce72f834b2d8336d3d110f07562\n",
      "🧪 View experiment at: http://127.0.0.1:8080/#/experiments/830731795768476244\n"
     ]
    },
    {
     "name": "stderr",
     "output_type": "stream",
     "text": [
      "\u001b[31m2025/08/26 11:11:03 WARNING mlflow.models.model: Model logged without a signature and input example. Please set `input_example` parameter when logging the model to auto infer the model signature.\u001b[0m\n",
      "[I 2025-08-26 11:11:03,151] Trial 9 finished with value: 0.562 and parameters: {'learning_rate': 0.05748924681991978, 'depth': 8, 'l2_leaf_reg': 1.4180537144799796}. Best is trial 9 with value: 0.562.\n"
     ]
    },
    {
     "name": "stdout",
     "output_type": "stream",
     "text": [
      "🏃 View run Catboost_optuna_iteration_9 at: http://127.0.0.1:8080/#/experiments/830731795768476244/runs/863c50423a4f4a41bd8cbf41f72dd2a8\n",
      "🧪 View experiment at: http://127.0.0.1:8080/#/experiments/830731795768476244\n"
     ]
    },
    {
     "name": "stderr",
     "output_type": "stream",
     "text": [
      "\u001b[31m2025/08/26 11:11:04 WARNING mlflow.models.model: Model logged without a signature and input example. Please set `input_example` parameter when logging the model to auto infer the model signature.\u001b[0m\n",
      "[I 2025-08-26 11:11:04,757] Trial 10 finished with value: 0.598 and parameters: {'learning_rate': 0.24893231508461813, 'depth': 8, 'l2_leaf_reg': 1.0679258738466384}. Best is trial 9 with value: 0.562.\n"
     ]
    },
    {
     "name": "stdout",
     "output_type": "stream",
     "text": [
      "🏃 View run Catboost_optuna_iteration_10 at: http://127.0.0.1:8080/#/experiments/830731795768476244/runs/1c58279a88cc4aa0992e217ee5e00f8c\n",
      "🧪 View experiment at: http://127.0.0.1:8080/#/experiments/830731795768476244\n"
     ]
    },
    {
     "name": "stderr",
     "output_type": "stream",
     "text": [
      "\u001b[31m2025/08/26 11:11:06 WARNING mlflow.models.model: Model logged without a signature and input example. Please set `input_example` parameter when logging the model to auto infer the model signature.\u001b[0m\n",
      "[I 2025-08-26 11:11:06,162] Trial 11 finished with value: 0.574 and parameters: {'learning_rate': 0.03253425182484387, 'depth': 8, 'l2_leaf_reg': 3.5584186834693132}. Best is trial 9 with value: 0.562.\n"
     ]
    },
    {
     "name": "stdout",
     "output_type": "stream",
     "text": [
      "🏃 View run Catboost_optuna_iteration_11 at: http://127.0.0.1:8080/#/experiments/830731795768476244/runs/bbbc20eafb104ef2b5c0bacea5e34909\n",
      "🧪 View experiment at: http://127.0.0.1:8080/#/experiments/830731795768476244\n"
     ]
    },
    {
     "name": "stderr",
     "output_type": "stream",
     "text": [
      "\u001b[31m2025/08/26 11:11:07 WARNING mlflow.models.model: Model logged without a signature and input example. Please set `input_example` parameter when logging the model to auto infer the model signature.\u001b[0m\n",
      "[I 2025-08-26 11:11:07,470] Trial 12 finished with value: 0.565 and parameters: {'learning_rate': 0.07186384123660489, 'depth': 8, 'l2_leaf_reg': 1.347215194590903}. Best is trial 9 with value: 0.562.\n"
     ]
    },
    {
     "name": "stdout",
     "output_type": "stream",
     "text": [
      "🏃 View run Catboost_optuna_iteration_12 at: http://127.0.0.1:8080/#/experiments/830731795768476244/runs/e1be2fd4fd114b09abe4ad1ecf465d6d\n",
      "🧪 View experiment at: http://127.0.0.1:8080/#/experiments/830731795768476244\n"
     ]
    },
    {
     "name": "stderr",
     "output_type": "stream",
     "text": [
      "\u001b[31m2025/08/26 11:11:08 WARNING mlflow.models.model: Model logged without a signature and input example. Please set `input_example` parameter when logging the model to auto infer the model signature.\u001b[0m\n",
      "[I 2025-08-26 11:11:08,862] Trial 13 finished with value: 0.566 and parameters: {'learning_rate': 0.05710611463977297, 'depth': 9, 'l2_leaf_reg': 4.2048210100149435}. Best is trial 9 with value: 0.562.\n"
     ]
    },
    {
     "name": "stdout",
     "output_type": "stream",
     "text": [
      "🏃 View run Catboost_optuna_iteration_13 at: http://127.0.0.1:8080/#/experiments/830731795768476244/runs/7141d7e6493d450e8b70898575338a86\n",
      "🧪 View experiment at: http://127.0.0.1:8080/#/experiments/830731795768476244\n"
     ]
    },
    {
     "name": "stderr",
     "output_type": "stream",
     "text": [
      "\u001b[31m2025/08/26 11:11:10 WARNING mlflow.models.model: Model logged without a signature and input example. Please set `input_example` parameter when logging the model to auto infer the model signature.\u001b[0m\n",
      "[I 2025-08-26 11:11:10,299] Trial 14 finished with value: 0.593 and parameters: {'learning_rate': 0.02539103142171328, 'depth': 9, 'l2_leaf_reg': 2.57693774467556}. Best is trial 9 with value: 0.562.\n"
     ]
    },
    {
     "name": "stdout",
     "output_type": "stream",
     "text": [
      "🏃 View run Catboost_optuna_iteration_14 at: http://127.0.0.1:8080/#/experiments/830731795768476244/runs/6e63877fb53447298b963ab740bec444\n",
      "🧪 View experiment at: http://127.0.0.1:8080/#/experiments/830731795768476244\n"
     ]
    },
    {
     "name": "stderr",
     "output_type": "stream",
     "text": [
      "\u001b[31m2025/08/26 11:11:11 WARNING mlflow.models.model: Model logged without a signature and input example. Please set `input_example` parameter when logging the model to auto infer the model signature.\u001b[0m\n",
      "[I 2025-08-26 11:11:11,581] Trial 15 finished with value: 0.556 and parameters: {'learning_rate': 0.09672338830100866, 'depth': 9, 'l2_leaf_reg': 2.0093794150920257}. Best is trial 15 with value: 0.556.\n"
     ]
    },
    {
     "name": "stdout",
     "output_type": "stream",
     "text": [
      "🏃 View run Catboost_optuna_iteration_15 at: http://127.0.0.1:8080/#/experiments/830731795768476244/runs/4b4e6971a0334cc68eb474a25f2334fd\n",
      "🧪 View experiment at: http://127.0.0.1:8080/#/experiments/830731795768476244\n"
     ]
    },
    {
     "name": "stderr",
     "output_type": "stream",
     "text": [
      "\u001b[31m2025/08/26 11:11:12 WARNING mlflow.models.model: Model logged without a signature and input example. Please set `input_example` parameter when logging the model to auto infer the model signature.\u001b[0m\n",
      "[I 2025-08-26 11:11:12,735] Trial 16 finished with value: 0.572 and parameters: {'learning_rate': 0.11752482442830568, 'depth': 7, 'l2_leaf_reg': 1.4450336538325919}. Best is trial 15 with value: 0.556.\n"
     ]
    },
    {
     "name": "stdout",
     "output_type": "stream",
     "text": [
      "🏃 View run Catboost_optuna_iteration_16 at: http://127.0.0.1:8080/#/experiments/830731795768476244/runs/0015e9ba1c7241fb9f27afa53cc08e2a\n",
      "🧪 View experiment at: http://127.0.0.1:8080/#/experiments/830731795768476244\n"
     ]
    },
    {
     "name": "stderr",
     "output_type": "stream",
     "text": [
      "\u001b[31m2025/08/26 11:11:13 WARNING mlflow.models.model: Model logged without a signature and input example. Please set `input_example` parameter when logging the model to auto infer the model signature.\u001b[0m\n",
      "[I 2025-08-26 11:11:13,923] Trial 17 finished with value: 0.566 and parameters: {'learning_rate': 0.10435882230584731, 'depth': 7, 'l2_leaf_reg': 4.499440220053293}. Best is trial 15 with value: 0.556.\n"
     ]
    },
    {
     "name": "stdout",
     "output_type": "stream",
     "text": [
      "🏃 View run Catboost_optuna_iteration_17 at: http://127.0.0.1:8080/#/experiments/830731795768476244/runs/1ae43bc73a9c469f9cb32ad2c514d339\n",
      "🧪 View experiment at: http://127.0.0.1:8080/#/experiments/830731795768476244\n"
     ]
    },
    {
     "name": "stderr",
     "output_type": "stream",
     "text": [
      "\u001b[31m2025/08/26 11:11:15 WARNING mlflow.models.model: Model logged without a signature and input example. Please set `input_example` parameter when logging the model to auto infer the model signature.\u001b[0m\n",
      "[I 2025-08-26 11:11:15,303] Trial 18 finished with value: 0.558 and parameters: {'learning_rate': 0.1837352199766314, 'depth': 9, 'l2_leaf_reg': 8.133778989170452}. Best is trial 15 with value: 0.556.\n"
     ]
    },
    {
     "name": "stdout",
     "output_type": "stream",
     "text": [
      "🏃 View run Catboost_optuna_iteration_18 at: http://127.0.0.1:8080/#/experiments/830731795768476244/runs/1479fa2e683a4e9ebae1e9ec837f465f\n",
      "🧪 View experiment at: http://127.0.0.1:8080/#/experiments/830731795768476244\n"
     ]
    },
    {
     "name": "stderr",
     "output_type": "stream",
     "text": [
      "\u001b[31m2025/08/26 11:11:16 WARNING mlflow.models.model: Model logged without a signature and input example. Please set `input_example` parameter when logging the model to auto infer the model signature.\u001b[0m\n",
      "[I 2025-08-26 11:11:16,735] Trial 19 finished with value: 0.595 and parameters: {'learning_rate': 0.29596284206078866, 'depth': 10, 'l2_leaf_reg': 8.471764723828645}. Best is trial 15 with value: 0.556.\n"
     ]
    },
    {
     "name": "stdout",
     "output_type": "stream",
     "text": [
      "🏃 View run Catboost_optuna_iteration_19 at: http://127.0.0.1:8080/#/experiments/830731795768476244/runs/9990c0969bce4247b7cb43b1661f18e6\n",
      "🧪 View experiment at: http://127.0.0.1:8080/#/experiments/830731795768476244\n"
     ]
    },
    {
     "name": "stderr",
     "output_type": "stream",
     "text": [
      "\u001b[31m2025/08/26 11:11:17 WARNING mlflow.models.model: Model logged without a signature and input example. Please set `input_example` parameter when logging the model to auto infer the model signature.\u001b[0m\n",
      "[I 2025-08-26 11:11:18,006] Trial 20 finished with value: 0.574 and parameters: {'learning_rate': 0.18348783233288368, 'depth': 9, 'l2_leaf_reg': 8.333053471044082}. Best is trial 15 with value: 0.556.\n"
     ]
    },
    {
     "name": "stdout",
     "output_type": "stream",
     "text": [
      "🏃 View run Catboost_optuna_iteration_20 at: http://127.0.0.1:8080/#/experiments/830731795768476244/runs/333adbc7eb784750b6525a97541f7947\n",
      "🧪 View experiment at: http://127.0.0.1:8080/#/experiments/830731795768476244\n"
     ]
    },
    {
     "name": "stderr",
     "output_type": "stream",
     "text": [
      "\u001b[31m2025/08/26 11:11:19 WARNING mlflow.models.model: Model logged without a signature and input example. Please set `input_example` parameter when logging the model to auto infer the model signature.\u001b[0m\n",
      "[I 2025-08-26 11:11:19,269] Trial 21 finished with value: 0.578 and parameters: {'learning_rate': 0.16195228630570985, 'depth': 8, 'l2_leaf_reg': 9.978832409877402}. Best is trial 15 with value: 0.556.\n"
     ]
    },
    {
     "name": "stdout",
     "output_type": "stream",
     "text": [
      "🏃 View run Catboost_optuna_iteration_21 at: http://127.0.0.1:8080/#/experiments/830731795768476244/runs/8c80e58586da4e25987d8dd4065ba5c5\n",
      "🧪 View experiment at: http://127.0.0.1:8080/#/experiments/830731795768476244\n"
     ]
    },
    {
     "name": "stderr",
     "output_type": "stream",
     "text": [
      "\u001b[31m2025/08/26 11:11:20 WARNING mlflow.models.model: Model logged without a signature and input example. Please set `input_example` parameter when logging the model to auto infer the model signature.\u001b[0m\n",
      "[I 2025-08-26 11:11:20,540] Trial 22 finished with value: 0.568 and parameters: {'learning_rate': 0.07798353614492506, 'depth': 9, 'l2_leaf_reg': 5.14456034767506}. Best is trial 15 with value: 0.556.\n"
     ]
    },
    {
     "name": "stdout",
     "output_type": "stream",
     "text": [
      "🏃 View run Catboost_optuna_iteration_22 at: http://127.0.0.1:8080/#/experiments/830731795768476244/runs/e3f43b26720c4421a2b9b2ff8e7d6e45\n",
      "🧪 View experiment at: http://127.0.0.1:8080/#/experiments/830731795768476244\n"
     ]
    },
    {
     "name": "stderr",
     "output_type": "stream",
     "text": [
      "\u001b[31m2025/08/26 11:11:21 WARNING mlflow.models.model: Model logged without a signature and input example. Please set `input_example` parameter when logging the model to auto infer the model signature.\u001b[0m\n",
      "[I 2025-08-26 11:11:21,745] Trial 23 finished with value: 0.567 and parameters: {'learning_rate': 0.13487130212775789, 'depth': 8, 'l2_leaf_reg': 1.7314887116553872}. Best is trial 15 with value: 0.556.\n"
     ]
    },
    {
     "name": "stdout",
     "output_type": "stream",
     "text": [
      "🏃 View run Catboost_optuna_iteration_23 at: http://127.0.0.1:8080/#/experiments/830731795768476244/runs/053c5e3f866d467d83fe71792b80b28d\n",
      "🧪 View experiment at: http://127.0.0.1:8080/#/experiments/830731795768476244\n"
     ]
    },
    {
     "name": "stderr",
     "output_type": "stream",
     "text": [
      "\u001b[31m2025/08/26 11:11:23 WARNING mlflow.models.model: Model logged without a signature and input example. Please set `input_example` parameter when logging the model to auto infer the model signature.\u001b[0m\n",
      "[I 2025-08-26 11:11:23,110] Trial 24 finished with value: 0.573 and parameters: {'learning_rate': 0.08732982437982302, 'depth': 10, 'l2_leaf_reg': 7.344343743413596}. Best is trial 15 with value: 0.556.\n"
     ]
    },
    {
     "name": "stdout",
     "output_type": "stream",
     "text": [
      "🏃 View run Catboost_optuna_iteration_24 at: http://127.0.0.1:8080/#/experiments/830731795768476244/runs/b86c926b3f104966ab4fb9726abba8a3\n",
      "🧪 View experiment at: http://127.0.0.1:8080/#/experiments/830731795768476244\n"
     ]
    },
    {
     "name": "stderr",
     "output_type": "stream",
     "text": [
      "\u001b[31m2025/08/26 11:11:24 WARNING mlflow.models.model: Model logged without a signature and input example. Please set `input_example` parameter when logging the model to auto infer the model signature.\u001b[0m\n",
      "[I 2025-08-26 11:11:24,320] Trial 25 finished with value: 0.56 and parameters: {'learning_rate': 0.062063456685780956, 'depth': 7, 'l2_leaf_reg': 3.5547510645237077}. Best is trial 15 with value: 0.556.\n"
     ]
    },
    {
     "name": "stdout",
     "output_type": "stream",
     "text": [
      "🏃 View run Catboost_optuna_iteration_25 at: http://127.0.0.1:8080/#/experiments/830731795768476244/runs/37db64ba93f34dcd846135f7f63aeb8f\n",
      "🧪 View experiment at: http://127.0.0.1:8080/#/experiments/830731795768476244\n"
     ]
    },
    {
     "name": "stderr",
     "output_type": "stream",
     "text": [
      "\u001b[31m2025/08/26 11:11:25 WARNING mlflow.models.model: Model logged without a signature and input example. Please set `input_example` parameter when logging the model to auto infer the model signature.\u001b[0m\n",
      "[I 2025-08-26 11:11:25,504] Trial 26 finished with value: 0.592 and parameters: {'learning_rate': 0.2086899224996805, 'depth': 7, 'l2_leaf_reg': 3.4021337686799744}. Best is trial 15 with value: 0.556.\n"
     ]
    },
    {
     "name": "stdout",
     "output_type": "stream",
     "text": [
      "🏃 View run Catboost_optuna_iteration_26 at: http://127.0.0.1:8080/#/experiments/830731795768476244/runs/9f212c384bfd4f8cbe99788c46d2ee83\n",
      "🧪 View experiment at: http://127.0.0.1:8080/#/experiments/830731795768476244\n"
     ]
    },
    {
     "name": "stderr",
     "output_type": "stream",
     "text": [
      "\u001b[31m2025/08/26 11:11:26 WARNING mlflow.models.model: Model logged without a signature and input example. Please set `input_example` parameter when logging the model to auto infer the model signature.\u001b[0m\n",
      "[I 2025-08-26 11:11:26,763] Trial 27 finished with value: 0.573 and parameters: {'learning_rate': 0.1329085530372941, 'depth': 7, 'l2_leaf_reg': 3.5605971659223257}. Best is trial 15 with value: 0.556.\n"
     ]
    },
    {
     "name": "stdout",
     "output_type": "stream",
     "text": [
      "🏃 View run Catboost_optuna_iteration_27 at: http://127.0.0.1:8080/#/experiments/830731795768476244/runs/2d087b14c39d4951b48ef10386e22a92\n",
      "🧪 View experiment at: http://127.0.0.1:8080/#/experiments/830731795768476244\n"
     ]
    },
    {
     "name": "stderr",
     "output_type": "stream",
     "text": [
      "\u001b[31m2025/08/26 11:11:28 WARNING mlflow.models.model: Model logged without a signature and input example. Please set `input_example` parameter when logging the model to auto infer the model signature.\u001b[0m\n",
      "[I 2025-08-26 11:11:28,086] Trial 28 finished with value: 0.564 and parameters: {'learning_rate': 0.09194263980021311, 'depth': 9, 'l2_leaf_reg': 5.137041535688812}. Best is trial 15 with value: 0.556.\n"
     ]
    },
    {
     "name": "stdout",
     "output_type": "stream",
     "text": [
      "🏃 View run Catboost_optuna_iteration_28 at: http://127.0.0.1:8080/#/experiments/830731795768476244/runs/a8ea496982a24636ae98716fc906387f\n",
      "🧪 View experiment at: http://127.0.0.1:8080/#/experiments/830731795768476244\n"
     ]
    },
    {
     "name": "stderr",
     "output_type": "stream",
     "text": [
      "\u001b[31m2025/08/26 11:11:29 WARNING mlflow.models.model: Model logged without a signature and input example. Please set `input_example` parameter when logging the model to auto infer the model signature.\u001b[0m\n",
      "[I 2025-08-26 11:11:29,473] Trial 29 finished with value: 0.584 and parameters: {'learning_rate': 0.06267845792872966, 'depth': 10, 'l2_leaf_reg': 8.98997023752528}. Best is trial 15 with value: 0.556.\n"
     ]
    },
    {
     "name": "stdout",
     "output_type": "stream",
     "text": [
      "🏃 View run Catboost_optuna_iteration_29 at: http://127.0.0.1:8080/#/experiments/830731795768476244/runs/3a19c2854add4b95b912075b1b53f40b\n",
      "🧪 View experiment at: http://127.0.0.1:8080/#/experiments/830731795768476244\n"
     ]
    },
    {
     "name": "stderr",
     "output_type": "stream",
     "text": [
      "\u001b[31m2025/08/26 11:11:30 WARNING mlflow.models.model: Model logged without a signature and input example. Please set `input_example` parameter when logging the model to auto infer the model signature.\u001b[0m\n",
      "[I 2025-08-26 11:11:30,647] Trial 30 finished with value: 0.573 and parameters: {'learning_rate': 0.03761753188744309, 'depth': 6, 'l2_leaf_reg': 6.998820753769471}. Best is trial 15 with value: 0.556.\n"
     ]
    },
    {
     "name": "stdout",
     "output_type": "stream",
     "text": [
      "🏃 View run Catboost_optuna_iteration_30 at: http://127.0.0.1:8080/#/experiments/830731795768476244/runs/ee76d6e04b4c449c8d58420ff4b9de67\n",
      "🧪 View experiment at: http://127.0.0.1:8080/#/experiments/830731795768476244\n"
     ]
    },
    {
     "name": "stderr",
     "output_type": "stream",
     "text": [
      "\u001b[31m2025/08/26 11:11:31 WARNING mlflow.models.model: Model logged without a signature and input example. Please set `input_example` parameter when logging the model to auto infer the model signature.\u001b[0m\n",
      "[I 2025-08-26 11:11:31,862] Trial 31 finished with value: 0.571 and parameters: {'learning_rate': 0.04961718109516873, 'depth': 8, 'l2_leaf_reg': 1.8410484636196525}. Best is trial 15 with value: 0.556.\n"
     ]
    },
    {
     "name": "stdout",
     "output_type": "stream",
     "text": [
      "🏃 View run Catboost_optuna_iteration_31 at: http://127.0.0.1:8080/#/experiments/830731795768476244/runs/abb55dbecce74213b39c2300425a7e5d\n",
      "🧪 View experiment at: http://127.0.0.1:8080/#/experiments/830731795768476244\n"
     ]
    },
    {
     "name": "stderr",
     "output_type": "stream",
     "text": [
      "\u001b[31m2025/08/26 11:11:33 WARNING mlflow.models.model: Model logged without a signature and input example. Please set `input_example` parameter when logging the model to auto infer the model signature.\u001b[0m\n",
      "[I 2025-08-26 11:11:33,096] Trial 32 finished with value: 0.566 and parameters: {'learning_rate': 0.06685138097762715, 'depth': 8, 'l2_leaf_reg': 2.091670467569017}. Best is trial 15 with value: 0.556.\n"
     ]
    },
    {
     "name": "stdout",
     "output_type": "stream",
     "text": [
      "🏃 View run Catboost_optuna_iteration_32 at: http://127.0.0.1:8080/#/experiments/830731795768476244/runs/d33283855cfb46ed94f3c12fa6b35a28\n",
      "🧪 View experiment at: http://127.0.0.1:8080/#/experiments/830731795768476244\n"
     ]
    },
    {
     "name": "stderr",
     "output_type": "stream",
     "text": [
      "\u001b[31m2025/08/26 11:11:34 WARNING mlflow.models.model: Model logged without a signature and input example. Please set `input_example` parameter when logging the model to auto infer the model signature.\u001b[0m\n",
      "[I 2025-08-26 11:11:34,414] Trial 33 finished with value: 0.587 and parameters: {'learning_rate': 0.02770040573789249, 'depth': 9, 'l2_leaf_reg': 2.8273945769723783}. Best is trial 15 with value: 0.556.\n"
     ]
    },
    {
     "name": "stdout",
     "output_type": "stream",
     "text": [
      "🏃 View run Catboost_optuna_iteration_33 at: http://127.0.0.1:8080/#/experiments/830731795768476244/runs/25a9c4404c4c40959f8a4e084bfb0b7e\n",
      "🧪 View experiment at: http://127.0.0.1:8080/#/experiments/830731795768476244\n"
     ]
    },
    {
     "name": "stderr",
     "output_type": "stream",
     "text": [
      "\u001b[31m2025/08/26 11:11:35 WARNING mlflow.models.model: Model logged without a signature and input example. Please set `input_example` parameter when logging the model to auto infer the model signature.\u001b[0m\n",
      "[I 2025-08-26 11:11:35,845] Trial 34 finished with value: 0.578 and parameters: {'learning_rate': 0.05555697575774188, 'depth': 10, 'l2_leaf_reg': 2.0657801657717707}. Best is trial 15 with value: 0.556.\n"
     ]
    },
    {
     "name": "stdout",
     "output_type": "stream",
     "text": [
      "🏃 View run Catboost_optuna_iteration_34 at: http://127.0.0.1:8080/#/experiments/830731795768476244/runs/ce826cfb306b4e30a050aa55d73c5c3e\n",
      "🧪 View experiment at: http://127.0.0.1:8080/#/experiments/830731795768476244\n"
     ]
    },
    {
     "name": "stderr",
     "output_type": "stream",
     "text": [
      "\u001b[31m2025/08/26 11:11:37 WARNING mlflow.models.model: Model logged without a signature and input example. Please set `input_example` parameter when logging the model to auto infer the model signature.\u001b[0m\n",
      "[I 2025-08-26 11:11:37,052] Trial 35 finished with value: 0.573 and parameters: {'learning_rate': 0.09239698231223484, 'depth': 7, 'l2_leaf_reg': 3.219866506154216}. Best is trial 15 with value: 0.556.\n"
     ]
    },
    {
     "name": "stdout",
     "output_type": "stream",
     "text": [
      "🏃 View run Catboost_optuna_iteration_35 at: http://127.0.0.1:8080/#/experiments/830731795768476244/runs/73277249f17b4d3d9f7f510e9bde63b7\n",
      "🧪 View experiment at: http://127.0.0.1:8080/#/experiments/830731795768476244\n"
     ]
    },
    {
     "name": "stderr",
     "output_type": "stream",
     "text": [
      "\u001b[31m2025/08/26 11:11:38 WARNING mlflow.models.model: Model logged without a signature and input example. Please set `input_example` parameter when logging the model to auto infer the model signature.\u001b[0m\n",
      "[I 2025-08-26 11:11:38,213] Trial 36 finished with value: 0.573 and parameters: {'learning_rate': 0.03962913996825942, 'depth': 5, 'l2_leaf_reg': 2.2228039618690874}. Best is trial 15 with value: 0.556.\n"
     ]
    },
    {
     "name": "stdout",
     "output_type": "stream",
     "text": [
      "🏃 View run Catboost_optuna_iteration_36 at: http://127.0.0.1:8080/#/experiments/830731795768476244/runs/8fccae4b198540099e5113d0f93c31c2\n",
      "🧪 View experiment at: http://127.0.0.1:8080/#/experiments/830731795768476244\n"
     ]
    },
    {
     "name": "stderr",
     "output_type": "stream",
     "text": [
      "\u001b[31m2025/08/26 11:11:39 WARNING mlflow.models.model: Model logged without a signature and input example. Please set `input_example` parameter when logging the model to auto infer the model signature.\u001b[0m\n",
      "[I 2025-08-26 11:11:39,357] Trial 37 finished with value: 0.566 and parameters: {'learning_rate': 0.14233653116985945, 'depth': 4, 'l2_leaf_reg': 5.994678501559357}. Best is trial 15 with value: 0.556.\n"
     ]
    },
    {
     "name": "stdout",
     "output_type": "stream",
     "text": [
      "🏃 View run Catboost_optuna_iteration_37 at: http://127.0.0.1:8080/#/experiments/830731795768476244/runs/aeb6548425ee4764becc487f0b18e692\n",
      "🧪 View experiment at: http://127.0.0.1:8080/#/experiments/830731795768476244\n"
     ]
    },
    {
     "name": "stderr",
     "output_type": "stream",
     "text": [
      "\u001b[31m2025/08/26 11:11:40 WARNING mlflow.models.model: Model logged without a signature and input example. Please set `input_example` parameter when logging the model to auto infer the model signature.\u001b[0m\n",
      "[I 2025-08-26 11:11:40,595] Trial 38 finished with value: 0.579 and parameters: {'learning_rate': 0.11006384936785527, 'depth': 8, 'l2_leaf_reg': 1.0455235471932482}. Best is trial 15 with value: 0.556.\n"
     ]
    },
    {
     "name": "stdout",
     "output_type": "stream",
     "text": [
      "🏃 View run Catboost_optuna_iteration_38 at: http://127.0.0.1:8080/#/experiments/830731795768476244/runs/7a8c1d1aeed741349749c38eee57491f\n",
      "🧪 View experiment at: http://127.0.0.1:8080/#/experiments/830731795768476244\n"
     ]
    },
    {
     "name": "stderr",
     "output_type": "stream",
     "text": [
      "\u001b[31m2025/08/26 11:11:41 WARNING mlflow.models.model: Model logged without a signature and input example. Please set `input_example` parameter when logging the model to auto infer the model signature.\u001b[0m\n",
      "[I 2025-08-26 11:11:41,902] Trial 39 finished with value: 0.56 and parameters: {'learning_rate': 0.23979317837460828, 'depth': 9, 'l2_leaf_reg': 4.134106001587102}. Best is trial 15 with value: 0.556.\n"
     ]
    },
    {
     "name": "stdout",
     "output_type": "stream",
     "text": [
      "🏃 View run Catboost_optuna_iteration_39 at: http://127.0.0.1:8080/#/experiments/830731795768476244/runs/bd7b1a455f46460790e167478077d45c\n",
      "🧪 View experiment at: http://127.0.0.1:8080/#/experiments/830731795768476244\n"
     ]
    },
    {
     "name": "stderr",
     "output_type": "stream",
     "text": [
      "\u001b[31m2025/08/26 11:11:43 WARNING mlflow.models.model: Model logged without a signature and input example. Please set `input_example` parameter when logging the model to auto infer the model signature.\u001b[0m\n",
      "[I 2025-08-26 11:11:43,337] Trial 40 finished with value: 0.571 and parameters: {'learning_rate': 0.21397443697466811, 'depth': 10, 'l2_leaf_reg': 4.843465157754345}. Best is trial 15 with value: 0.556.\n"
     ]
    },
    {
     "name": "stdout",
     "output_type": "stream",
     "text": [
      "🏃 View run Catboost_optuna_iteration_40 at: http://127.0.0.1:8080/#/experiments/830731795768476244/runs/f347dba1755343ef983115ac209eb71a\n",
      "🧪 View experiment at: http://127.0.0.1:8080/#/experiments/830731795768476244\n"
     ]
    },
    {
     "name": "stderr",
     "output_type": "stream",
     "text": [
      "\u001b[31m2025/08/26 11:11:44 WARNING mlflow.models.model: Model logged without a signature and input example. Please set `input_example` parameter when logging the model to auto infer the model signature.\u001b[0m\n",
      "[I 2025-08-26 11:11:44,625] Trial 41 finished with value: 0.59 and parameters: {'learning_rate': 0.2846583896897537, 'depth': 9, 'l2_leaf_reg': 3.868683363965411}. Best is trial 15 with value: 0.556.\n"
     ]
    },
    {
     "name": "stdout",
     "output_type": "stream",
     "text": [
      "🏃 View run Catboost_optuna_iteration_41 at: http://127.0.0.1:8080/#/experiments/830731795768476244/runs/46d1294c65414bd4ba799e63ce10bebf\n",
      "🧪 View experiment at: http://127.0.0.1:8080/#/experiments/830731795768476244\n"
     ]
    },
    {
     "name": "stderr",
     "output_type": "stream",
     "text": [
      "\u001b[31m2025/08/26 11:11:45 WARNING mlflow.models.model: Model logged without a signature and input example. Please set `input_example` parameter when logging the model to auto infer the model signature.\u001b[0m\n",
      "[I 2025-08-26 11:11:45,925] Trial 42 finished with value: 0.563 and parameters: {'learning_rate': 0.2406039739256781, 'depth': 9, 'l2_leaf_reg': 2.9035868965447067}. Best is trial 15 with value: 0.556.\n"
     ]
    },
    {
     "name": "stdout",
     "output_type": "stream",
     "text": [
      "🏃 View run Catboost_optuna_iteration_42 at: http://127.0.0.1:8080/#/experiments/830731795768476244/runs/f916aae16c4749c49ea8035dc0490d0a\n",
      "🧪 View experiment at: http://127.0.0.1:8080/#/experiments/830731795768476244\n"
     ]
    },
    {
     "name": "stderr",
     "output_type": "stream",
     "text": [
      "\u001b[31m2025/08/26 11:11:47 WARNING mlflow.models.model: Model logged without a signature and input example. Please set `input_example` parameter when logging the model to auto infer the model signature.\u001b[0m\n",
      "[I 2025-08-26 11:11:47,170] Trial 43 finished with value: 0.551 and parameters: {'learning_rate': 0.16461139272031802, 'depth': 8, 'l2_leaf_reg': 4.063417976603828}. Best is trial 43 with value: 0.551.\n"
     ]
    },
    {
     "name": "stdout",
     "output_type": "stream",
     "text": [
      "🏃 View run Catboost_optuna_iteration_43 at: http://127.0.0.1:8080/#/experiments/830731795768476244/runs/3f71187083cd412ba69b04108f2bb432\n",
      "🧪 View experiment at: http://127.0.0.1:8080/#/experiments/830731795768476244\n"
     ]
    },
    {
     "name": "stderr",
     "output_type": "stream",
     "text": [
      "\u001b[31m2025/08/26 11:11:48 WARNING mlflow.models.model: Model logged without a signature and input example. Please set `input_example` parameter when logging the model to auto infer the model signature.\u001b[0m\n",
      "[I 2025-08-26 11:11:48,446] Trial 44 finished with value: 0.582 and parameters: {'learning_rate': 0.16967815338691372, 'depth': 9, 'l2_leaf_reg': 4.0276643415442805}. Best is trial 43 with value: 0.551.\n"
     ]
    },
    {
     "name": "stdout",
     "output_type": "stream",
     "text": [
      "🏃 View run Catboost_optuna_iteration_44 at: http://127.0.0.1:8080/#/experiments/830731795768476244/runs/f5d2867fc7a44246acf91762a7d63398\n",
      "🧪 View experiment at: http://127.0.0.1:8080/#/experiments/830731795768476244\n"
     ]
    },
    {
     "name": "stderr",
     "output_type": "stream",
     "text": [
      "\u001b[31m2025/08/26 11:11:49 WARNING mlflow.models.model: Model logged without a signature and input example. Please set `input_example` parameter when logging the model to auto infer the model signature.\u001b[0m\n",
      "[I 2025-08-26 11:11:49,628] Trial 45 finished with value: 0.57 and parameters: {'learning_rate': 0.1996511592157663, 'depth': 6, 'l2_leaf_reg': 6.065477502762828}. Best is trial 43 with value: 0.551.\n"
     ]
    },
    {
     "name": "stdout",
     "output_type": "stream",
     "text": [
      "🏃 View run Catboost_optuna_iteration_45 at: http://127.0.0.1:8080/#/experiments/830731795768476244/runs/ec4396cf53fd4a2fbdc7da623b2306bb\n",
      "🧪 View experiment at: http://127.0.0.1:8080/#/experiments/830731795768476244\n"
     ]
    },
    {
     "name": "stderr",
     "output_type": "stream",
     "text": [
      "\u001b[31m2025/08/26 11:11:50 WARNING mlflow.models.model: Model logged without a signature and input example. Please set `input_example` parameter when logging the model to auto infer the model signature.\u001b[0m\n",
      "[I 2025-08-26 11:11:50,865] Trial 46 finished with value: 0.574 and parameters: {'learning_rate': 0.14984901465905573, 'depth': 8, 'l2_leaf_reg': 4.54110049051632}. Best is trial 43 with value: 0.551.\n"
     ]
    },
    {
     "name": "stdout",
     "output_type": "stream",
     "text": [
      "🏃 View run Catboost_optuna_iteration_46 at: http://127.0.0.1:8080/#/experiments/830731795768476244/runs/9ea8d0b3a3034960a09d5b73f7d27745\n",
      "🧪 View experiment at: http://127.0.0.1:8080/#/experiments/830731795768476244\n"
     ]
    },
    {
     "name": "stderr",
     "output_type": "stream",
     "text": [
      "\u001b[31m2025/08/26 11:11:52 WARNING mlflow.models.model: Model logged without a signature and input example. Please set `input_example` parameter when logging the model to auto infer the model signature.\u001b[0m\n",
      "[I 2025-08-26 11:11:52,085] Trial 47 finished with value: 0.567 and parameters: {'learning_rate': 0.12466480786239399, 'depth': 7, 'l2_leaf_reg': 3.8161689440056277}. Best is trial 43 with value: 0.551.\n"
     ]
    },
    {
     "name": "stdout",
     "output_type": "stream",
     "text": [
      "🏃 View run Catboost_optuna_iteration_47 at: http://127.0.0.1:8080/#/experiments/830731795768476244/runs/1eac634e1f304cbc92bd8721e657a0fb\n",
      "🧪 View experiment at: http://127.0.0.1:8080/#/experiments/830731795768476244\n"
     ]
    },
    {
     "name": "stderr",
     "output_type": "stream",
     "text": [
      "\u001b[31m2025/08/26 11:11:53 WARNING mlflow.models.model: Model logged without a signature and input example. Please set `input_example` parameter when logging the model to auto infer the model signature.\u001b[0m\n",
      "[I 2025-08-26 11:11:53,386] Trial 48 finished with value: 0.566 and parameters: {'learning_rate': 0.24549414786515986, 'depth': 9, 'l2_leaf_reg': 5.495720049674533}. Best is trial 43 with value: 0.551.\n"
     ]
    },
    {
     "name": "stdout",
     "output_type": "stream",
     "text": [
      "🏃 View run Catboost_optuna_iteration_48 at: http://127.0.0.1:8080/#/experiments/830731795768476244/runs/306e6ff9b2044fbe9a10332ff6ae475f\n",
      "🧪 View experiment at: http://127.0.0.1:8080/#/experiments/830731795768476244\n"
     ]
    },
    {
     "name": "stderr",
     "output_type": "stream",
     "text": [
      "\u001b[31m2025/08/26 11:11:54 WARNING mlflow.models.model: Model logged without a signature and input example. Please set `input_example` parameter when logging the model to auto infer the model signature.\u001b[0m\n",
      "[I 2025-08-26 11:11:54,615] Trial 49 finished with value: 0.568 and parameters: {'learning_rate': 0.07842255349941261, 'depth': 8, 'l2_leaf_reg': 3.215662322272498}. Best is trial 43 with value: 0.551.\n"
     ]
    },
    {
     "name": "stdout",
     "output_type": "stream",
     "text": [
      "🏃 View run Catboost_optuna_iteration_49 at: http://127.0.0.1:8080/#/experiments/830731795768476244/runs/70ce04f12b944130b34cc1a4ef227a35\n",
      "🧪 View experiment at: http://127.0.0.1:8080/#/experiments/830731795768476244\n",
      "Best validation RMSE: 0.5510\n",
      "Test RMSE: 0.5768\n",
      "🏃 View run Catboost_optuna at: http://127.0.0.1:8080/#/experiments/830731795768476244/runs/c16549f5ad634cb8bd12b3e6a0fa70b1\n",
      "🧪 View experiment at: http://127.0.0.1:8080/#/experiments/830731795768476244\n"
     ]
    }
   ],
   "source": [
    "run_name = 'Catboost_optuna'\n",
    "with mlflow.start_run(run_name=run_name):\n",
    "    np.random.seed(42)\n",
    "    # Create the study and optimize\n",
    "    study = optuna.create_study(direction=\"minimize\", sampler=optuna.samplers.TPESampler(seed=42))\n",
    "    study.optimize(\n",
    "        lambda trial: objective(trial, x_train, y_train, x_val, y_val, x_test, y_test),\n",
    "        n_trials=50\n",
    "    )\n",
    "    \n",
    "    # Log the best metrics and parameters from the parent run\n",
    "    mlflow.log_metric(\"best_rmse\", study.best_value)\n",
    "    mlflow.log_params(study.best_params)\n",
    "    mlflow.set_tag('best_model', 'true')\n",
    "    \n",
    "    # Train the best model with early stopping (more iterations)\n",
    "    best_params = study.best_params.copy()\n",
    "    best_params.update({\n",
    "        'iterations': 1000,  # More iterations for final model\n",
    "        'early_stopping_rounds': 50,  # Early stopping\n",
    "    })\n",
    "    \n",
    "    best_model = CatBoostRegressor(**best_params, random_seed=42)\n",
    "    best_model.fit(x_train, y_train, eval_set=[(x_val, y_val)], verbose=False)\n",
    "    \n",
    "    # Compute test score for the best model\n",
    "    y_pred_test = best_model.predict(x_test)\n",
    "    rmse_test = np.sqrt(mean_squared_error(y_test, y_pred_test))\n",
    "    \n",
    "    # Log the test score\n",
    "    mlflow.log_metric(\"rmse_test_best\", rmse_test)\n",
    "    \n",
    "    # Log the best model in the parent run\n",
    "    model_info = mlflow.sklearn.log_model(\n",
    "        sk_model=best_model,\n",
    "        name=\"best_catboost_model\",\n",
    "        input_example=x_train,\n",
    "    )\n",
    "    \n",
    "    print(f\"Best validation RMSE: {study.best_value:.4f}\")\n",
    "    print(f\"Test RMSE: {rmse_test:.4f}\")"
   ]
  },
  {
   "cell_type": "code",
   "execution_count": 18,
   "id": "c346b469",
   "metadata": {},
   "outputs": [
    {
     "data": {
      "text/plain": [
       "'models:/m-5b72087dbbcc47debae7355e0ac8ccec'"
      ]
     },
     "execution_count": 18,
     "metadata": {},
     "output_type": "execute_result"
    }
   ],
   "source": [
    "model_info.model_uri"
   ]
  },
  {
   "cell_type": "code",
   "execution_count": 19,
   "id": "ed02ed94",
   "metadata": {},
   "outputs": [
    {
     "data": {
      "application/vnd.jupyter.widget-view+json": {
       "model_id": "6cdaf1500047419ea5245fc60b1587fc",
       "version_major": 2,
       "version_minor": 0
      },
      "text/plain": [
       "Downloading artifacts:   0%|          | 0/7 [00:00<?, ?it/s]"
      ]
     },
     "metadata": {},
     "output_type": "display_data"
    }
   ],
   "source": [
    "loaded = mlflow.pyfunc.load_model(\n",
    "    f\"{model_info.model_uri}\"\n",
    ")"
   ]
  },
  {
   "cell_type": "markdown",
   "id": "f0532ef6-0167-45cc-b4d7-03f505c54345",
   "metadata": {},
   "source": [
    "# Loading the best optuna model"
   ]
  },
  {
   "cell_type": "code",
   "execution_count": 25,
   "id": "1b250e67",
   "metadata": {},
   "outputs": [
    {
     "name": "stdout",
     "output_type": "stream",
     "text": [
      "Experiment 'Wine Quality Regression' has ID: 830731795768476244\n"
     ]
    }
   ],
   "source": [
    "# Get experiment by name\n",
    "experiment_name = \"Wine Quality Regression\"\n",
    "experiment = mlflow.get_experiment_by_name(experiment_name)\n",
    "\n",
    "if experiment:\n",
    "    experiment_id = experiment.experiment_id\n",
    "    print(f\"Experiment '{experiment_name}' has ID: {experiment_id}\")\n",
    "else:\n",
    "    print(f\"Experiment '{experiment_name}' not found\")"
   ]
  },
  {
   "cell_type": "code",
   "execution_count": 27,
   "id": "8496e494",
   "metadata": {},
   "outputs": [
    {
     "data": {
      "text/html": [
       "<div>\n",
       "<style scoped>\n",
       "    .dataframe tbody tr th:only-of-type {\n",
       "        vertical-align: middle;\n",
       "    }\n",
       "\n",
       "    .dataframe tbody tr th {\n",
       "        vertical-align: top;\n",
       "    }\n",
       "\n",
       "    .dataframe thead th {\n",
       "        text-align: right;\n",
       "    }\n",
       "</style>\n",
       "<table border=\"1\" class=\"dataframe\">\n",
       "  <thead>\n",
       "    <tr style=\"text-align: right;\">\n",
       "      <th></th>\n",
       "    </tr>\n",
       "  </thead>\n",
       "  <tbody>\n",
       "  </tbody>\n",
       "</table>\n",
       "</div>"
      ],
      "text/plain": [
       "Empty DataFrame\n",
       "Columns: []\n",
       "Index: []"
      ]
     },
     "execution_count": 27,
     "metadata": {},
     "output_type": "execute_result"
    }
   ],
   "source": [
    "# Find high-performing models across experiments\n",
    "top_models = mlflow.search_logged_models(\n",
    "    experiment_ids=[str(experiment_id)],\n",
    "    filter_string=\"tags.best_model = 'true'\",\n",
    "    # max_results=3\n",
    ")\n",
    "top_models"
   ]
  },
  {
   "cell_type": "code",
   "execution_count": 24,
   "id": "858a687b-73d2-4db1-9dc0-dc7cd62dacc2",
   "metadata": {},
   "outputs": [
    {
     "data": {
      "text/html": [
       "<div>\n",
       "<style scoped>\n",
       "    .dataframe tbody tr th:only-of-type {\n",
       "        vertical-align: middle;\n",
       "    }\n",
       "\n",
       "    .dataframe tbody tr th {\n",
       "        vertical-align: top;\n",
       "    }\n",
       "\n",
       "    .dataframe thead th {\n",
       "        text-align: right;\n",
       "    }\n",
       "</style>\n",
       "<table border=\"1\" class=\"dataframe\">\n",
       "  <thead>\n",
       "    <tr style=\"text-align: right;\">\n",
       "      <th></th>\n",
       "    </tr>\n",
       "  </thead>\n",
       "  <tbody>\n",
       "  </tbody>\n",
       "</table>\n",
       "</div>"
      ],
      "text/plain": [
       "Empty DataFrame\n",
       "Columns: []\n",
       "Index: []"
      ]
     },
     "execution_count": 24,
     "metadata": {},
     "output_type": "execute_result"
    }
   ],
   "source": [
    "top_models"
   ]
  },
  {
   "cell_type": "code",
   "execution_count": 28,
   "id": "ba9e53a5-39f0-463d-aaa4-c5e963dd2ba4",
   "metadata": {},
   "outputs": [],
   "source": [
    "# Search for runs with the \"best_model\" tag set to \"true\"\n",
    "runs = mlflow.search_runs(\n",
    "    filter_string=\"tags.best_model = 'true'\",\n",
    "    order_by=[\"metrics.rmse_val ASC\"],\n",
    "    max_results=3\n",
    ")\n"
   ]
  },
  {
   "cell_type": "code",
   "execution_count": 29,
   "id": "c64ca40e",
   "metadata": {},
   "outputs": [
    {
     "data": {
      "text/plain": [
       "run_id                                      c16549f5ad634cb8bd12b3e6a0fa70b1\n",
       "experiment_id                                             830731795768476244\n",
       "status                                                              FINISHED\n",
       "artifact_uri               mlflow-artifacts:/830731795768476244/c16549f5a...\n",
       "start_time                                  2025-08-26 07:10:50.952000+00:00\n",
       "end_time                                    2025-08-26 07:11:55.826000+00:00\n",
       "metrics.best_rmse                                                      0.551\n",
       "metrics.rmse_test_best                                              0.576769\n",
       "params.learning_rate                                     0.16461139272031802\n",
       "params.depth                                                               8\n",
       "params.l2_leaf_reg                                         4.063417976603828\n",
       "tags.mlflow.source.name    /Users/timurbikmuhametov/miniconda3/envs/mlaca...\n",
       "tags.mlflow.source.type                                                LOCAL\n",
       "tags.best_model                                                         true\n",
       "tags.mlflow.user                                           timurbikmuhametov\n",
       "tags.mlflow.runName                                          Catboost_optuna\n",
       "Name: 0, dtype: object"
      ]
     },
     "execution_count": 29,
     "metadata": {},
     "output_type": "execute_result"
    }
   ],
   "source": [
    "runs.iloc[0]"
   ]
  },
  {
   "cell_type": "code",
   "execution_count": 30,
   "id": "5eaa9dfa",
   "metadata": {},
   "outputs": [
    {
     "data": {
      "text/html": [
       "<div>\n",
       "<style scoped>\n",
       "    .dataframe tbody tr th:only-of-type {\n",
       "        vertical-align: middle;\n",
       "    }\n",
       "\n",
       "    .dataframe tbody tr th {\n",
       "        vertical-align: top;\n",
       "    }\n",
       "\n",
       "    .dataframe thead th {\n",
       "        text-align: right;\n",
       "    }\n",
       "</style>\n",
       "<table border=\"1\" class=\"dataframe\">\n",
       "  <thead>\n",
       "    <tr style=\"text-align: right;\">\n",
       "      <th></th>\n",
       "      <th>run_id</th>\n",
       "      <th>experiment_id</th>\n",
       "      <th>status</th>\n",
       "      <th>artifact_uri</th>\n",
       "      <th>start_time</th>\n",
       "      <th>end_time</th>\n",
       "      <th>metrics.best_rmse</th>\n",
       "      <th>metrics.rmse_test_best</th>\n",
       "      <th>params.learning_rate</th>\n",
       "      <th>params.depth</th>\n",
       "      <th>params.l2_leaf_reg</th>\n",
       "      <th>tags.mlflow.source.name</th>\n",
       "      <th>tags.mlflow.source.type</th>\n",
       "      <th>tags.best_model</th>\n",
       "      <th>tags.mlflow.user</th>\n",
       "      <th>tags.mlflow.runName</th>\n",
       "    </tr>\n",
       "  </thead>\n",
       "  <tbody>\n",
       "    <tr>\n",
       "      <th>0</th>\n",
       "      <td>c16549f5ad634cb8bd12b3e6a0fa70b1</td>\n",
       "      <td>830731795768476244</td>\n",
       "      <td>FINISHED</td>\n",
       "      <td>mlflow-artifacts:/830731795768476244/c16549f5a...</td>\n",
       "      <td>2025-08-26 07:10:50.952000+00:00</td>\n",
       "      <td>2025-08-26 07:11:55.826000+00:00</td>\n",
       "      <td>0.551</td>\n",
       "      <td>0.576769</td>\n",
       "      <td>0.16461139272031802</td>\n",
       "      <td>8</td>\n",
       "      <td>4.063417976603828</td>\n",
       "      <td>/Users/timurbikmuhametov/miniconda3/envs/mlaca...</td>\n",
       "      <td>LOCAL</td>\n",
       "      <td>true</td>\n",
       "      <td>timurbikmuhametov</td>\n",
       "      <td>Catboost_optuna</td>\n",
       "    </tr>\n",
       "  </tbody>\n",
       "</table>\n",
       "</div>"
      ],
      "text/plain": [
       "                             run_id       experiment_id    status  \\\n",
       "0  c16549f5ad634cb8bd12b3e6a0fa70b1  830731795768476244  FINISHED   \n",
       "\n",
       "                                        artifact_uri  \\\n",
       "0  mlflow-artifacts:/830731795768476244/c16549f5a...   \n",
       "\n",
       "                        start_time                         end_time  \\\n",
       "0 2025-08-26 07:10:50.952000+00:00 2025-08-26 07:11:55.826000+00:00   \n",
       "\n",
       "   metrics.best_rmse  metrics.rmse_test_best params.learning_rate  \\\n",
       "0              0.551                0.576769  0.16461139272031802   \n",
       "\n",
       "  params.depth params.l2_leaf_reg  \\\n",
       "0            8  4.063417976603828   \n",
       "\n",
       "                             tags.mlflow.source.name tags.mlflow.source.type  \\\n",
       "0  /Users/timurbikmuhametov/miniconda3/envs/mlaca...                   LOCAL   \n",
       "\n",
       "  tags.best_model   tags.mlflow.user tags.mlflow.runName  \n",
       "0            true  timurbikmuhametov     Catboost_optuna  "
      ]
     },
     "execution_count": 30,
     "metadata": {},
     "output_type": "execute_result"
    }
   ],
   "source": [
    "runs"
   ]
  },
  {
   "cell_type": "code",
   "execution_count": null,
   "id": "3b93d809",
   "metadata": {},
   "outputs": [],
   "source": [
    "# Get the run ID of the latest \"best_model\" if there are several\n",
    "best_model_exp_id = runs.iloc[0].experiment_id\n",
    "best_model_run_id = runs.iloc[0].run_id\n",
    "\n",
    "# Load the best model for inference\n",
    "loaded_model = mlflow.pyfunc.load_model(f\"runs:/{best_model_run_id}/best_catboost_model\")\n",
    "y_pred = loaded_model.predict(x_test)\n",
    "rmse_test = np.sqrt(mean_squared_error(y_test, y_pred))\n",
    "print(f\"RMSE on test set: {rmse_test}\")"
   ]
  },
  {
   "cell_type": "code",
   "execution_count": 90,
   "id": "0390319e",
   "metadata": {},
   "outputs": [
    {
     "name": "stdout",
     "output_type": "stream",
     "text": [
      "Artifacts under the run:\n",
      "\n",
      "Run tags:\n",
      "{'best_model': 'true', 'mlflow.user': 'timurbikmuhametov', 'mlflow.runName': 'Catboost_optuna', 'mlflow.source.name': '/Users/timurbikmuhametov/miniconda3/envs/mlacademy-tutorials/lib/python3.11/site-packages/ipykernel_launcher.py', 'mlflow.source.type': 'LOCAL'}\n"
     ]
    }
   ],
   "source": [
    "\n",
    "client = MlflowClient()\n",
    "best_run_id = best_model_run_id  # from your search\n",
    "\n",
    "print(\"Artifacts under the run:\")\n",
    "for f in client.list_artifacts(best_run_id):\n",
    "    print(\"-\", f.path)           # look for \"model\" or \"best_catboost_model\"\n",
    "\n",
    "# Also print the run's tags; if it's registered, you'll see registry-related tags\n",
    "print(\"\\nRun tags:\")\n",
    "print(client.get_run(best_run_id).data.tags)"
   ]
  },
  {
   "cell_type": "code",
   "execution_count": null,
   "id": "961993c5",
   "metadata": {},
   "outputs": [],
   "source": []
  },
  {
   "cell_type": "code",
   "execution_count": null,
   "id": "d76987de",
   "metadata": {},
   "outputs": [],
   "source": []
  },
  {
   "cell_type": "code",
   "execution_count": null,
   "id": "fc148947",
   "metadata": {},
   "outputs": [],
   "source": []
  },
  {
   "cell_type": "code",
   "execution_count": null,
   "id": "96d1393e-c68f-4e5e-9ebe-6c15a71c0df1",
   "metadata": {},
   "outputs": [],
   "source": [
    "# Get the run ID of the latest \"best_model\" if there are several\n",
    "latest_exp_id = runs.iloc[0].experiment_id\n",
    "latest_run_id = runs.iloc[0].run_id"
   ]
  },
  {
   "cell_type": "code",
   "execution_count": null,
   "id": "f9fb1507-8d01-4118-9256-3e857b377712",
   "metadata": {},
   "outputs": [],
   "source": [
    "# List all artifacts for the given run_id\n",
    "artifacts = client.list_artifacts(latest_run_id)\n",
    "for artifact in artifacts:\n",
    "    print(artifact.path)"
   ]
  },
  {
   "cell_type": "code",
   "execution_count": null,
   "id": "c2e0e4c1-a07c-426c-9fd5-94dbd540fbde",
   "metadata": {},
   "outputs": [
    {
     "data": {
      "application/vnd.jupyter.widget-view+json": {
       "model_id": "67a0334f305c4906a9d878bfa77ef232",
       "version_major": 2,
       "version_minor": 0
      },
      "text/plain": [
       "Downloading artifacts:   0%|          | 0/1 [00:00<?, ?it/s]"
      ]
     },
     "metadata": {},
     "output_type": "display_data"
    },
    {
     "data": {
      "application/vnd.jupyter.widget-view+json": {
       "model_id": "108b603b5b9a4521bfa1a1c67ce9fb6c",
       "version_major": 2,
       "version_minor": 0
      },
      "text/plain": [
       "Downloading artifacts:   0%|          | 0/7 [00:00<?, ?it/s]"
      ]
     },
     "metadata": {},
     "output_type": "display_data"
    }
   ],
   "source": [
    "# Load the latest best model (adjust artifact path if needed)\n",
    "model_uri = f\"runs:/{latest_run_id}/best_model_lasso\"  # or ridge_model, etc.\n",
    "latest_best_model = mlflow.sklearn.load_model(model_uri)"
   ]
  },
  {
   "cell_type": "code",
   "execution_count": null,
   "id": "057d5e00",
   "metadata": {},
   "outputs": [
    {
     "name": "stderr",
     "output_type": "stream",
     "text": [
      "2025/08/25 12:13:32 WARNING mlflow.models.model: `artifact_path` is deprecated. Please use `name` instead.\n"
     ]
    },
    {
     "name": "stdout",
     "output_type": "stream",
     "text": [
      "RMSE val = 0.6356127117266147, RMSE test = 0.638554128638353\n"
     ]
    },
    {
     "name": "stderr",
     "output_type": "stream",
     "text": [
      "\u001b[31m2025/08/25 12:13:33 WARNING mlflow.models.model: Model logged without a signature and input example. Please set `input_example` parameter when logging the model to auto infer the model signature.\u001b[0m\n"
     ]
    },
    {
     "name": "stdout",
     "output_type": "stream",
     "text": [
      "Model logged with URI: models:/m-8696a37307ef40cd9f5e6e2376336660\n",
      "RMSE validation: 0.6356\n",
      "RMSE test: 0.6386\n",
      "🏃 View run lasso_baseline at: http://127.0.0.1:8080/#/experiments/707987884788603680/runs/d9730f37d2ef462daa8dab8205b6121c\n",
      "🧪 View experiment at: http://127.0.0.1:8080/#/experiments/707987884788603680\n"
     ]
    }
   ],
   "source": [
    "# Setting hyperparameters\n",
    "\n",
    "lasso_params = {\n",
    "    'alpha': 0.1,\n",
    "    'max_iter': 1000,\n",
    "    'random_state': 42\n",
    "}\n",
    "\n",
    "# Train the model\n",
    "trained_model, rmse_val, rmse_test = train_model(df, lasso_params, model='Lasso')\n",
    "\n",
    "# Start an MLflow run\n",
    "with mlflow.start_run(run_name='lasso_baseline'):\n",
    "    # Prepare metrics and tags\n",
    "    metrics = {\n",
    "        'rmse_val': rmse_val,\n",
    "        'rmse_test': rmse_test\n",
    "    }\n",
    "    \n",
    "    # Let's add some tags to the run\n",
    "    tags = {\n",
    "        'model_version': 'baseline',\n",
    "        'experiment_type': 'regression',\n",
    "    }\n",
    "    \n",
    "    # Log everything using our function\n",
    "    model_info = log_run(\n",
    "        run_name=\"lasso_baseline\",\n",
    "        params=lasso_params,\n",
    "        metrics=metrics,\n",
    "        tags=tags,\n",
    "        trained_model=trained_model,\n",
    "        model_type='Lasso',\n",
    "    )\n",
    "    \n",
    "    print(f\"Model logged with URI: {model_info.model_uri}\")\n",
    "    print(f\"RMSE validation: {rmse_val:.4f}\")\n",
    "    print(f\"RMSE test: {rmse_test:.4f}\")"
   ]
  },
  {
   "cell_type": "code",
   "execution_count": null,
   "id": "3e72c060-bd1c-4f31-8fcb-f05c2b6e7291",
   "metadata": {},
   "outputs": [
    {
     "data": {
      "text/html": [
       "<style>#sk-container-id-3 {color: black;background-color: white;}#sk-container-id-3 pre{padding: 0;}#sk-container-id-3 div.sk-toggleable {background-color: white;}#sk-container-id-3 label.sk-toggleable__label {cursor: pointer;display: block;width: 100%;margin-bottom: 0;padding: 0.3em;box-sizing: border-box;text-align: center;}#sk-container-id-3 label.sk-toggleable__label-arrow:before {content: \"▸\";float: left;margin-right: 0.25em;color: #696969;}#sk-container-id-3 label.sk-toggleable__label-arrow:hover:before {color: black;}#sk-container-id-3 div.sk-estimator:hover label.sk-toggleable__label-arrow:before {color: black;}#sk-container-id-3 div.sk-toggleable__content {max-height: 0;max-width: 0;overflow: hidden;text-align: left;background-color: #f0f8ff;}#sk-container-id-3 div.sk-toggleable__content pre {margin: 0.2em;color: black;border-radius: 0.25em;background-color: #f0f8ff;}#sk-container-id-3 input.sk-toggleable__control:checked~div.sk-toggleable__content {max-height: 200px;max-width: 100%;overflow: auto;}#sk-container-id-3 input.sk-toggleable__control:checked~label.sk-toggleable__label-arrow:before {content: \"▾\";}#sk-container-id-3 div.sk-estimator input.sk-toggleable__control:checked~label.sk-toggleable__label {background-color: #d4ebff;}#sk-container-id-3 div.sk-label input.sk-toggleable__control:checked~label.sk-toggleable__label {background-color: #d4ebff;}#sk-container-id-3 input.sk-hidden--visually {border: 0;clip: rect(1px 1px 1px 1px);clip: rect(1px, 1px, 1px, 1px);height: 1px;margin: -1px;overflow: hidden;padding: 0;position: absolute;width: 1px;}#sk-container-id-3 div.sk-estimator {font-family: monospace;background-color: #f0f8ff;border: 1px dotted black;border-radius: 0.25em;box-sizing: border-box;margin-bottom: 0.5em;}#sk-container-id-3 div.sk-estimator:hover {background-color: #d4ebff;}#sk-container-id-3 div.sk-parallel-item::after {content: \"\";width: 100%;border-bottom: 1px solid gray;flex-grow: 1;}#sk-container-id-3 div.sk-label:hover label.sk-toggleable__label {background-color: #d4ebff;}#sk-container-id-3 div.sk-serial::before {content: \"\";position: absolute;border-left: 1px solid gray;box-sizing: border-box;top: 0;bottom: 0;left: 50%;z-index: 0;}#sk-container-id-3 div.sk-serial {display: flex;flex-direction: column;align-items: center;background-color: white;padding-right: 0.2em;padding-left: 0.2em;position: relative;}#sk-container-id-3 div.sk-item {position: relative;z-index: 1;}#sk-container-id-3 div.sk-parallel {display: flex;align-items: stretch;justify-content: center;background-color: white;position: relative;}#sk-container-id-3 div.sk-item::before, #sk-container-id-3 div.sk-parallel-item::before {content: \"\";position: absolute;border-left: 1px solid gray;box-sizing: border-box;top: 0;bottom: 0;left: 50%;z-index: -1;}#sk-container-id-3 div.sk-parallel-item {display: flex;flex-direction: column;z-index: 1;position: relative;background-color: white;}#sk-container-id-3 div.sk-parallel-item:first-child::after {align-self: flex-end;width: 50%;}#sk-container-id-3 div.sk-parallel-item:last-child::after {align-self: flex-start;width: 50%;}#sk-container-id-3 div.sk-parallel-item:only-child::after {width: 0;}#sk-container-id-3 div.sk-dashed-wrapped {border: 1px dashed gray;margin: 0 0.4em 0.5em 0.4em;box-sizing: border-box;padding-bottom: 0.4em;background-color: white;}#sk-container-id-3 div.sk-label label {font-family: monospace;font-weight: bold;display: inline-block;line-height: 1.2em;}#sk-container-id-3 div.sk-label-container {text-align: center;}#sk-container-id-3 div.sk-container {/* jupyter's `normalize.less` sets `[hidden] { display: none; }` but bootstrap.min.css set `[hidden] { display: none !important; }` so we also need the `!important` here to be able to override the default hidden behavior on the sphinx rendered scikit-learn.org. See: https://github.com/scikit-learn/scikit-learn/issues/21755 */display: inline-block !important;position: relative;}#sk-container-id-3 div.sk-text-repr-fallback {display: none;}</style><div id=\"sk-container-id-3\" class=\"sk-top-container\"><div class=\"sk-text-repr-fallback\"><pre>Lasso(alpha=0.0003134351413728864)</pre><b>In a Jupyter environment, please rerun this cell to show the HTML representation or trust the notebook. <br />On GitHub, the HTML representation is unable to render, please try loading this page with nbviewer.org.</b></div><div class=\"sk-container\" hidden><div class=\"sk-item\"><div class=\"sk-estimator sk-toggleable\"><input class=\"sk-toggleable__control sk-hidden--visually\" id=\"sk-estimator-id-3\" type=\"checkbox\" checked><label for=\"sk-estimator-id-3\" class=\"sk-toggleable__label sk-toggleable__label-arrow\">Lasso</label><div class=\"sk-toggleable__content\"><pre>Lasso(alpha=0.0003134351413728864)</pre></div></div></div></div></div>"
      ],
      "text/plain": [
       "Lasso(alpha=0.0003134351413728864)"
      ]
     },
     "execution_count": 74,
     "metadata": {},
     "output_type": "execute_result"
    }
   ],
   "source": [
    "latest_best_model"
   ]
  },
  {
   "cell_type": "code",
   "execution_count": null,
   "id": "c7ba94e5-75e2-414e-85be-6a1ee498b18d",
   "metadata": {},
   "outputs": [
    {
     "name": "stderr",
     "output_type": "stream",
     "text": [
      "Successfully registered model 'prod_lasso_model'.\n",
      "2025/08/02 14:08:37 WARNING mlflow.tracking._model_registry.fluent: Run with id 34405e1852b04624bcb1fe1a93bd5146 has no artifacts at artifact path 'best_model_lasso', registering model based on models:/m-279c6abed3a24012b3169306a0d3726f instead\n",
      "2025/08/02 14:08:37 INFO mlflow.store.model_registry.abstract_store: Waiting up to 300 seconds for model version to finish creation. Model name: prod_lasso_model, version 1\n",
      "Created version '1' of model 'prod_lasso_model'.\n"
     ]
    },
    {
     "data": {
      "text/plain": [
       "<ModelVersion: aliases=[], creation_timestamp=1754129317360, current_stage='None', deployment_job_state=<ModelVersionDeploymentJobState: current_task_name='', job_id='', job_state='DEPLOYMENT_JOB_CONNECTION_STATE_UNSPECIFIED', run_id='', run_state='DEPLOYMENT_JOB_RUN_STATE_UNSPECIFIED'>, description='', last_updated_timestamp=1754129317360, metrics=None, model_id=None, name='prod_lasso_model', params=None, run_id='34405e1852b04624bcb1fe1a93bd5146', run_link='', source='models:/m-279c6abed3a24012b3169306a0d3726f', status='READY', status_message=None, tags={}, user_id='', version='1'>"
      ]
     },
     "execution_count": 73,
     "metadata": {},
     "output_type": "execute_result"
    }
   ],
   "source": [
    "# Register the best model\n",
    "mlflow.register_model(model_uri, \"prod_lasso_model\")"
   ]
  },
  {
   "cell_type": "markdown",
   "id": "3e67ed68-85b3-476c-ac43-48df7f41a40f",
   "metadata": {},
   "source": [
    "# Loading the registered model"
   ]
  },
  {
   "cell_type": "code",
   "execution_count": null,
   "id": "9cbbcbbf-640d-4efa-a692-51c31059dc75",
   "metadata": {},
   "outputs": [
    {
     "name": "stderr",
     "output_type": "stream",
     "text": [
      "/Users/timurbikmuhametov/miniconda3/envs/ml-project/lib/python3.10/site-packages/mlflow/store/artifact/utils/models.py:31: FutureWarning: ``mlflow.tracking.client.MlflowClient.get_latest_versions`` is deprecated since 2.9.0. Model registry stages will be removed in a future major release. To learn more about the deprecation of model registry stages, see our migration guide here: https://mlflow.org/docs/latest/model-registry.html#migrating-from-stages\n",
      "  latest = client.get_latest_versions(name, None if stage is None else [stage])\n"
     ]
    },
    {
     "data": {
      "application/vnd.jupyter.widget-view+json": {
       "model_id": "d3fb93f9ad674da8a788e6711a3bacdd",
       "version_major": 2,
       "version_minor": 0
      },
      "text/plain": [
       "Downloading artifacts:   0%|          | 0/7 [00:00<?, ?it/s]"
      ]
     },
     "metadata": {},
     "output_type": "display_data"
    }
   ],
   "source": [
    "model_name = \"prod_lasso_model\"\n",
    "model_version = \"latest\"\n",
    "\n",
    "# Load the model from the Model Registry\n",
    "model_uri = f\"models:/{model_name}/{model_version}\"\n",
    "model = mlflow.sklearn.load_model(model_uri)"
   ]
  }
 ],
 "metadata": {
  "kernelspec": {
   "display_name": "Python 3 (ipykernel)",
   "language": "python",
   "name": "python3"
  },
  "language_info": {
   "codemirror_mode": {
    "name": "ipython",
    "version": 3
   },
   "file_extension": ".py",
   "mimetype": "text/x-python",
   "name": "python",
   "nbconvert_exporter": "python",
   "pygments_lexer": "ipython3",
   "version": "3.11.13"
  }
 },
 "nbformat": 4,
 "nbformat_minor": 5
}
